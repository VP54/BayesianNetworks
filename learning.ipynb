{
 "cells": [
  {
   "cell_type": "code",
   "execution_count": null,
   "id": "d9ce5eff",
   "metadata": {},
   "outputs": [],
   "source": [
    "## MATH AND DATA PROCESSING\n",
    "import pandas as pd\n",
    "import numpy as np\n",
    "from scipy.special import gammaln\n",
    "from math import lgamma, log\n",
    "from sklearn.preprocessing import OrdinalEncoder\n",
    "\n",
    "## PLOT\n",
    "import matplotlib.pyplot as plt\n",
    "import networkx as nx\n",
    "\n",
    "## OS and sys\n",
    "import sys\n",
    "import os\n",
    "import warnings\n",
    "from itertools import product, chain"
   ]
  },
  {
   "cell_type": "code",
   "execution_count": 133,
   "id": "735f0cef-93fd-481f-8895-00185508b61a",
   "metadata": {
    "tags": []
   },
   "outputs": [],
   "source": [
    "from pgmpy.estimators import HillClimbSearch, BicScore, PC, ParameterEstimator\n",
    "from pgmpy.estimators import BayesianEstimator as BE\n",
    "from pgmpy.estimators import MaximumLikelihoodEstimator as MLE\n",
    "from pgmpy.estimators import ExpectationMaximization as EM\n",
    "\n",
    "from pgmpy.models import BayesianNetwork\n",
    "\n",
    "from pgmpy.factors.discrete import TabularCPD\n",
    "from pgmpy.global_vars import SHOW_PROGRESS\n",
    "\n",
    "from tqdm.auto import tqdm\n",
    "from pgmpy.base import DAG"
   ]
  },
  {
   "cell_type": "code",
   "execution_count": null,
   "id": "e54a4a6b",
   "metadata": {},
   "outputs": [],
   "source": [
    "%run ML_score.py\n",
    "%run EM_modified.ipynb"
   ]
  },
  {
   "cell_type": "code",
   "execution_count": 1,
   "id": "fb8ec70a",
   "metadata": {},
   "outputs": [],
   "source": [
    "class PreprocessDataParameter:\n",
    "    def __init__(self, NODE_SIZE, NUM_BINS, NUM_BINS_SMALL):\n",
    "        self.NODE_SIZE = NODE_SIZE\n",
    "        self.NUM_BINS = NUM_BINS\n",
    "        self.NUM_BINS_SMALL = NUM_BINS_SMALL\n",
    "        \n",
    "    def plot(self, model):\n",
    "        plt.figure(figsize=(8, 6), dpi=100)  \n",
    "        \n",
    "        nx.draw(model, with_labels=True, node_size = self.node_sizes)\n",
    "        \n",
    "        plt.axis('off')\n",
    "        axis = plt.gca()\n",
    "        axis.set_xlim([1.2*x for x in axis.get_xlim()])\n",
    "        axis.set_ylim([1.2*y for y in axis.get_ylim()])\n",
    "        \n",
    "        return plt.show()\n",
    "\n",
    "    def get_disc_data(self, disc_data):\n",
    "\n",
    "        teplota = self.cutting_cond(disc_data['Teplota vzduchu'])\n",
    "        rychlost = self.cutting_cond(disc_data['Rychlost otáček'])\n",
    "        krout = self.cutting_cond(disc_data['Kroutící moment'])\n",
    "        opo = self.cutting_cond(disc_data['Opotřebení nástroje'])\n",
    "        \n",
    "        return disc_data, teplota, rychlost, krout, opo\n",
    "    \n",
    "    @staticmethod\n",
    "    def cutting_cond(x):\n",
    "        return (min(x), max(x), (max(x) - min(x)) / 40)\n",
    "    \n",
    "    @staticmethod\n",
    "    def cutting_cond_small(x, bins):\n",
    "        return (min(x) - 100, max(x) + 100, ((max(x) + 100) - (min(x) - 100)) / bins)\n",
    "    \n",
    "    def bin_data(self, x_test, data_to_be_replaced = None):\n",
    "        NUM_BINS = self.NUM_BINS\n",
    "        NUM_BINS_SMALL = self.NUM_BINS_SMALL\n",
    "        \n",
    "        \n",
    "        disc_data = x_test.copy()\n",
    "        disc_data, teplota, rychlost, krout, opo = self.get_disc_data(disc_data)\n",
    "        \n",
    "        teplota = self.cutting_cond(disc_data['Teplota vzduchu'], NUM_BINS)\n",
    "        rychlost = self.cutting_cond(disc_data['Rychlost otáček'], NUM_BINS)\n",
    "        krout = self.cutting_cond(disc_data['Kroutící moment'], NUM_BINS)\n",
    "        opo = self.cutting_cond_small(disc_data['Opotřebení nástroje'], NUM_BINS_SMALL)\n",
    "        \n",
    "        disc_data['T'] = pd.cut(x = disc_data['Teplota vzduchu'], bins = np.arange(teplota[0], teplota[1], teplota[2]), labels = np.arange(0, NUM_BINS - 1, 1))\n",
    "        disc_data['R'] = pd.cut(x = disc_data['Rychlost otáček'], bins = np.arange(rychlost[0], rychlost[1], rychlost[2]), labels = np.arange(0, NUM_BINS - 1, 1))\n",
    "        disc_data['K'] = pd.cut(x = disc_data['Kroutící moment'], bins = np.arange(krout[0], krout[1], krout[2]), labels = np.arange(0, NUM_BINS - 1, 1))\n",
    "        disc_data['O'] = pd.cut(x = disc_data['Opotřebení nástroje'], bins = np.arange(opo[0], opo[1], opo[2]), labels = np.arange(0, NUM_BINS_SMALL - 1, 1))\n",
    "\n",
    "        y_test = disc_data['Porucha']\n",
    "        disc_data = disc_data.dropna(how = 'any')\n",
    "        \n",
    "        return disc_data\n",
    "    \n",
    "\n",
    "    "
   ]
  },
  {
   "cell_type": "code",
   "execution_count": 134,
   "id": "8a117437-f25d-424e-8578-d8700a5c7e76",
   "metadata": {},
   "outputs": [
    {
     "name": "stdout",
     "output_type": "stream",
     "text": [
      "<class 'pandas.core.frame.DataFrame'>\n",
      "Int64Index: 9999 entries, 6252 to 860\n",
      "Data columns (total 5 columns):\n",
      " #   Column               Non-Null Count  Dtype  \n",
      "---  ------               --------------  -----  \n",
      " 0   Teplota vzduchu      9999 non-null   float32\n",
      " 1   Rychlost otáček      9999 non-null   int32  \n",
      " 2   Kroutící moment      9999 non-null   float32\n",
      " 3   Opotřebení nástroje  9999 non-null   int32  \n",
      " 4   Porucha              9999 non-null   int32  \n",
      "dtypes: float32(2), int32(3)\n",
      "memory usage: 273.4 KB\n"
     ]
    }
   ],
   "source": [
    "enc = OrdinalEncoder()\n",
    "df = pd.read_csv('gs://bayesian_net/predictive_maintenance.csv')\n",
    "\n",
    "df = df.drop(columns = ['Unnamed: 0', 'Type', 'Process temperature [K]'])\n",
    "df.columns = ['Teplota vzduchu', 'Rychlost otáček', 'Kroutící moment', 'Opotřebení nástroje', 'Porucha']\n",
    "\n",
    "df[df['Porucha'] == 1].reset_index(drop = True) \n",
    "\n",
    "from sklearn.model_selection import train_test_split\n",
    "\n",
    "_, x_test, _, y_test = train_test_split(\n",
    "                                                     df.loc[:, df.columns != 'b'], \n",
    "                                                     df['Porucha'], \n",
    "                                                     test_size=0.9999, \n",
    "                                                     random_state=42\n",
    "                                                   )\n",
    "\n",
    "x_test['Porucha'] = y_test\n",
    "\n",
    "x_test['Teplota vzduchu'] = x_test['Teplota vzduchu'].apply(lambda x: np.float32(x))\n",
    "x_test['Kroutící moment'] = x_test['Kroutící moment'].apply(lambda x: np.float32(x))\n",
    "x_test['Rychlost otáček'] = x_test['Rychlost otáček'].apply(lambda x: np.int32(x))\n",
    "x_test['Opotřebení nástroje'] = x_test['Opotřebení nástroje'].apply(lambda x: np.int32(x))\n",
    "x_test['Porucha'] = x_test['Porucha'].apply(lambda x: np.int32(x))"
   ]
  },
  {
   "attachments": {},
   "cell_type": "markdown",
   "id": "f1bc6d68",
   "metadata": {},
   "source": [
    "## Structure Learning"
   ]
  },
  {
   "cell_type": "code",
   "execution_count": 154,
   "id": "f3810843-cb20-4044-99cf-3fe0ab0e0bc5",
   "metadata": {},
   "outputs": [
    {
     "data": {
      "application/vnd.jupyter.widget-view+json": {
       "model_id": "312102645c5c497fb27a6c62ce960e1c",
       "version_major": 2,
       "version_minor": 0
      },
      "text/plain": [
       "  0%|          | 0/150 [00:00<?, ?it/s]"
      ]
     },
     "metadata": {},
     "output_type": "display_data"
    },
    {
     "data": {
      "text/plain": [
       "OutEdgeView([('Teplota vzduchu', 'Porucha'), ('Porucha', 'Kroutící moment'), ('Porucha', 'Opotřebení nástroje'), ('Porucha', 'Rychlost otáček')])"
      ]
     },
     "execution_count": 154,
     "metadata": {},
     "output_type": "execute_result"
    }
   ],
   "source": [
    "\n",
    "gs = HillClimbSearch(data_skewed_hc[['Teplota vzduchu', 'Rychlost otáček', 'Kroutící moment', 'Opotřebení nástroje', 'Porucha']])\n",
    "ml_model = gs.estimate(scoring_method = MLScore(data_normal_pearson[['Teplota vzduchu', 'Rychlost otáček', 'Kroutící moment', 'Opotřebení nástroje', 'Porucha']]), max_iter = 150, show_progress = True)\n",
    "\n",
    "ml_model.edges()\n"
   ]
  },
  {
   "cell_type": "code",
   "execution_count": 155,
   "id": "9b0b134d-1fe5-474a-8b53-f930427d07ba",
   "metadata": {},
   "outputs": [
    {
     "data": {
      "application/vnd.jupyter.widget-view+json": {
       "model_id": "6a092bb3edb24e299785ce852abd33d6",
       "version_major": 2,
       "version_minor": 0
      },
      "text/plain": [
       "  0%|          | 0/150 [00:00<?, ?it/s]"
      ]
     },
     "metadata": {},
     "output_type": "display_data"
    },
    {
     "data": {
      "text/plain": [
       "OutEdgeView([('Teplota vzduchu', 'Porucha'), ('Porucha', 'Kroutící moment'), ('Porucha', 'Opotřebení nástroje'), ('Porucha', 'Rychlost otáček')])"
      ]
     },
     "execution_count": 155,
     "metadata": {},
     "output_type": "execute_result"
    }
   ],
   "source": [
    "\n",
    "\n",
    "gs = HillClimbSearch(data_normal_hc[['Teplota vzduchu', 'Rychlost otáček', 'Kroutící moment', 'Opotřebení nástroje', 'Porucha']])\n",
    "ml_model = gs.estimate(scoring_method = MLScore(data_normal_pearson[['Teplota vzduchu', 'Rychlost otáček', 'Kroutící moment', 'Opotřebení nástroje', 'Porucha']]), max_iter = 150, show_progress = True)\n",
    "\n",
    "\n",
    "ml_model.edges()\n"
   ]
  },
  {
   "cell_type": "code",
   "execution_count": 149,
   "id": "e47cdd73-eb02-442d-9cf8-1464f99f9dcf",
   "metadata": {},
   "outputs": [
    {
     "data": {
      "application/vnd.jupyter.widget-view+json": {
       "model_id": "8caa6224d0bc46908c17cb564c48e7b2",
       "version_major": 2,
       "version_minor": 0
      },
      "text/plain": [
       "  0%|          | 0/150 [00:00<?, ?it/s]"
      ]
     },
     "metadata": {},
     "output_type": "display_data"
    },
    {
     "data": {
      "text/plain": [
       "OutEdgeView([('K', 'R'), ('K', 'Porucha'), ('Porucha', 'O'), ('Porucha', 'T')])"
      ]
     },
     "execution_count": 149,
     "metadata": {},
     "output_type": "execute_result"
    }
   ],
   "source": [
    "\n",
    "\n",
    "gs = HillClimbSearch(data_normal_hc[['T', 'O', 'K', 'R', 'Porucha']])\n",
    "ml_model = gs.estimate(scoring_method =BicScore(data_normal_pearson[['T', 'O', 'K', 'R', 'Porucha']]), max_iter = 150, show_progress = True)\n",
    "\n",
    "\n",
    "ml_model.edges()\n"
   ]
  },
  {
   "cell_type": "code",
   "execution_count": 156,
   "id": "7da9631f-428d-46f6-9609-6992e0025eaa",
   "metadata": {},
   "outputs": [
    {
     "data": {
      "application/vnd.jupyter.widget-view+json": {
       "model_id": "a101346d6c00415a9264ebf6de4e0024",
       "version_major": 2,
       "version_minor": 0
      },
      "text/plain": [
       "  0%|          | 0/5 [00:00<?, ?it/s]"
      ]
     },
     "metadata": {},
     "output_type": "display_data"
    },
    {
     "data": {
      "text/plain": [
       "OutEdgeView([('Teplota vzduchu', 'Rychlost otáček'), ('Opotřebení nástroje', 'Porucha')])"
      ]
     },
     "execution_count": 156,
     "metadata": {},
     "output_type": "execute_result"
    }
   ],
   "source": [
    "pc = PC(data=data_normal_pearson[['Teplota vzduchu', 'Rychlost otáček', 'Kroutící moment', 'Opotřebení nástroje', 'Porucha']])\n",
    "pc_model_peaerson = pc.estimate(ci_test = 'pearsonr', significance_level=0.05)\n",
    "\n",
    "pc_model_peaerson.edges()"
   ]
  },
  {
   "cell_type": "code",
   "execution_count": 158,
   "id": "bd682034-13bb-4f43-933a-3c13eb9aff64",
   "metadata": {},
   "outputs": [
    {
     "data": {
      "application/vnd.jupyter.widget-view+json": {
       "model_id": "1d7454cc03af4c13a2f26970be072e70",
       "version_major": 2,
       "version_minor": 0
      },
      "text/plain": [
       "  0%|          | 0/5 [00:00<?, ?it/s]"
      ]
     },
     "metadata": {},
     "output_type": "display_data"
    },
    {
     "data": {
      "text/plain": [
       "OutEdgeView([('Kroutící moment', 'Rychlost otáček'), ('Teplota vzduchu', 'Rychlost otáček')])"
      ]
     },
     "execution_count": 158,
     "metadata": {},
     "output_type": "execute_result"
    }
   ],
   "source": [
    "pc = PC(data=data_normal_pearson[['Teplota vzduchu', 'Rychlost otáček', 'Kroutící moment', 'Opotřebení nástroje', 'Porucha']])\n",
    "pc_model_peaerson = pc.estimate(ci_test = 'chi_square', significance_level=0.05)\n",
    "\n",
    "pc_model_peaerson.edges()"
   ]
  },
  {
   "cell_type": "code",
   "execution_count": 138,
   "id": "135a865d-4f55-4b1f-ae29-6df9a407fd80",
   "metadata": {},
   "outputs": [
    {
     "data": {
      "application/vnd.jupyter.widget-view+json": {
       "model_id": "e3b6112a8ba843b482a88407a29a843c",
       "version_major": 2,
       "version_minor": 0
      },
      "text/plain": [
       "  0%|          | 0/15 [00:00<?, ?it/s]"
      ]
     },
     "metadata": {},
     "output_type": "display_data"
    },
    {
     "data": {
      "text/plain": [
       "OutEdgeView([])"
      ]
     },
     "execution_count": 138,
     "metadata": {},
     "output_type": "execute_result"
    }
   ],
   "source": [
    "gs = HillClimbSearch(x_test)\n",
    "ml_model = gs.estimate(scoring_method = BicScore(x_test), max_iter = 15)\n",
    "\n",
    "ml_model.edges()\n"
   ]
  },
  {
   "cell_type": "code",
   "execution_count": null,
   "id": "41f5cdb1-bab8-44b2-9911-e81c02cc70c1",
   "metadata": {},
   "outputs": [],
   "source": [
    "gs = HillClimbSearch(x_test)\n",
    "ml_model = gs.estimate(scoring_method = BicScore(x_test), max_iter = 8)"
   ]
  },
  {
   "cell_type": "code",
   "execution_count": null,
   "id": "c13dfaf1-03aa-4126-8f03-23a9f34cdafb",
   "metadata": {},
   "outputs": [],
   "source": [
    "ml_model.edges()"
   ]
  },
  {
   "cell_type": "markdown",
   "id": "202dc72c-74c7-4f01-a5f9-5d5a9b6ff714",
   "metadata": {},
   "source": [
    "#### pc = PC(data=x_test)\n",
    "pc_model_chi = pc.estimate(ci_test = 'chi_square', significance_level=0.5)\n",
    "\n",
    "pc_model_chi.edges()"
   ]
  },
  {
   "cell_type": "code",
   "execution_count": null,
   "id": "9c05c569-ee7b-4401-a822-bcb70dd03a1d",
   "metadata": {},
   "outputs": [],
   "source": [
    "estimator = EM(BayesianNetwork(ml_model), x_test)\n",
    "\n",
    "est = estimator.get_parameters(max_iter = 3, seed = 20000000)\n",
    "\n",
    "est"
   ]
  },
  {
   "cell_type": "code",
   "execution_count": 355,
   "id": "ebe36feb-23ef-40a7-864b-2fd2d2f0ffb1",
   "metadata": {},
   "outputs": [
    {
     "data": {
      "application/vnd.jupyter.widget-view+json": {
       "model_id": "54cc0b20a0c64aab9cae031f5d97de03",
       "version_major": 2,
       "version_minor": 0
      },
      "text/plain": [
       "  0%|          | 0/5 [00:00<?, ?it/s]"
      ]
     },
     "metadata": {},
     "output_type": "display_data"
    },
    {
     "data": {
      "text/plain": [
       "OutEdgeView([('Opotřebení nástroje', 'Porucha'), ('Teplota vzduchu', 'Rychlost otáček')])"
      ]
     },
     "execution_count": 355,
     "metadata": {},
     "output_type": "execute_result"
    }
   ],
   "source": [
    "pc = PC(data=x_test)\n",
    "pc_model_peaerson = pc.estimate(ci_test = 'pearsonr', significance_level=0.15)\n",
    "\n",
    "pc_model_peaerson.edges()"
   ]
  },
  {
   "cell_type": "code",
   "execution_count": null,
   "id": "6944dc98-dd3f-4ac5-967b-9b64f0f4e250",
   "metadata": {},
   "outputs": [],
   "source": [
    "pc = PC(data=x_test)\n",
    "pc_model_chi = pc.estimate(ci_test = 'chi_square', significance_level=0.15)\n",
    "\n",
    "pc_model_chi.edges()"
   ]
  },
  {
   "cell_type": "code",
   "execution_count": null,
   "id": "79ed21bb-6899-49b2-adae-a865684bdff0",
   "metadata": {},
   "outputs": [],
   "source": [
    "#### pc = PC(data=x_test)\n",
    "pc_model_chi = pc.estimate(ci_test = 'chi_square', significance_level=0.05)\n",
    "\n",
    "pc_model_chi.edges()"
   ]
  },
  {
   "cell_type": "code",
   "execution_count": 17,
   "id": "63db7430-4aab-454b-b2d5-78df2012b12d",
   "metadata": {},
   "outputs": [],
   "source": [
    "def print_full(cpd):\n",
    "    backup = TabularCPD._truncate_strtable\n",
    "    TabularCPD._truncate_strtable = lambda self, x: x\n",
    "    print(cpd)\n",
    "    TabularCPD._truncate_strtable = backup\n",
    "    \n",
    "\n"
   ]
  },
  {
   "cell_type": "code",
   "execution_count": 356,
   "id": "68beadc6-ec13-4a65-9493-661709f1234f",
   "metadata": {},
   "outputs": [],
   "source": [
    "model = BayesianNetwork([('O', 'Porucha'), ('T', 'R')])"
   ]
  },
  {
   "cell_type": "markdown",
   "id": "a9be0b08-3302-4752-9c82-b185d1658d2b",
   "metadata": {},
   "source": [
    "## Parameter learning"
   ]
  },
  {
   "cell_type": "markdown",
   "id": "af8d8419-68a5-4ecd-93cf-fc67359195d5",
   "metadata": {},
   "source": [
    "## EM"
   ]
  },
  {
   "cell_type": "markdown",
   "id": "9d40c0a8-e727-4dac-801f-effb43122c81",
   "metadata": {},
   "source": [
    "### EM pearson"
   ]
  },
  {
   "cell_type": "code",
   "execution_count": 187,
   "id": "c5f0d704-57f1-49b4-a235-5e034253fd34",
   "metadata": {},
   "outputs": [
    {
     "data": {
      "application/vnd.jupyter.widget-view+json": {
       "model_id": "64a5e8d8c64742f59e5e85400370a97d",
       "version_major": 2,
       "version_minor": 0
      },
      "text/plain": [
       "  0%|          | 0/5 [00:00<?, ?it/s]"
      ]
     },
     "metadata": {},
     "output_type": "display_data"
    },
    {
     "name": "stdout",
     "output_type": "stream",
     "text": [
      "0\n",
      "1\n",
      "<class 'pgmpy.factors.discrete.CPD.TabularCPD'>\n",
      "1\n",
      "2\n",
      "<class 'pgmpy.factors.discrete.CPD.TabularCPD'>\n",
      "<class 'pgmpy.factors.discrete.CPD.TabularCPD'>\n",
      "<class 'pgmpy.factors.discrete.CPD.TabularCPD'>\n",
      "<class 'pgmpy.factors.discrete.CPD.TabularCPD'>\n",
      "+------------+----------------------+---------------------+----------------------+----------------------+----------------------+----------------------+--------------------+----------------------+---------------------+----------------------+----------------------+----------------------+----------------------+----------------------+----------------------+--------------------+----------------------+----------------------+--------------------+---------------------+---------------------+---------------------+---------------------+--------------------+--------------------+-------+\n",
      "| O          | O(10)                | O(11)               | O(12)                | O(13)                | O(14)                | O(15)                | O(16)              | O(17)                | O(18)               | O(19)                | O(20)                | O(21)                | O(22)                | O(23)                | O(24)                | O(25)              | O(26)                | O(27)                | O(28)              | O(29)               | O(30)               | O(31)               | O(32)               | O(33)              | O(34)              | O(35) |\n",
      "+------------+----------------------+---------------------+----------------------+----------------------+----------------------+----------------------+--------------------+----------------------+---------------------+----------------------+----------------------+----------------------+----------------------+----------------------+----------------------+--------------------+----------------------+----------------------+--------------------+---------------------+---------------------+---------------------+---------------------+--------------------+--------------------+-------+\n",
      "| Porucha(0) | 0.9752808988764045   | 0.9794661190965093  | 0.9739696312364425   | 0.9781553398058253   | 0.9798657718120806   | 0.9891067538126361   | 0.9649890590809628 | 0.9847161572052402   | 0.977924944812362   | 0.9733656174334141   | 0.9752808988764045   | 0.9762419006479481   | 0.9781659388646288   | 0.9844789356984479   | 0.9847494553376906   | 0.973741794310722  | 0.9773299748110831   | 0.9786324786324786   | 0.9824945295404814 | 0.9497816593886463  | 0.9333333333333333  | 0.8496932515337423  | 0.8283582089552238  | 0.6551724137931034 | 0.8888888888888888 | 0.2   |\n",
      "+------------+----------------------+---------------------+----------------------+----------------------+----------------------+----------------------+--------------------+----------------------+---------------------+----------------------+----------------------+----------------------+----------------------+----------------------+----------------------+--------------------+----------------------+----------------------+--------------------+---------------------+---------------------+---------------------+---------------------+--------------------+--------------------+-------+\n",
      "| Porucha(1) | 0.024719101123595506 | 0.02053388090349076 | 0.026030368763557483 | 0.021844660194174758 | 0.020134228187919462 | 0.010893246187363835 | 0.0350109409190372 | 0.015283842794759825 | 0.02207505518763797 | 0.026634382566585957 | 0.024719101123595506 | 0.023758099352051837 | 0.021834061135371178 | 0.015521064301552107 | 0.015250544662309368 | 0.0262582056892779 | 0.022670025188916875 | 0.021367521367521368 | 0.0175054704595186 | 0.05021834061135371 | 0.06666666666666667 | 0.15030674846625766 | 0.17164179104477612 | 0.3448275862068966 | 0.1111111111111111 | 0.8   |\n",
      "+------------+----------------------+---------------------+----------------------+----------------------+----------------------+----------------------+--------------------+----------------------+---------------------+----------------------+----------------------+----------------------+----------------------+----------------------+----------------------+--------------------+----------------------+----------------------+--------------------+---------------------+---------------------+---------------------+---------------------+--------------------+--------------------+-------+\n"
     ]
    }
   ],
   "source": [
    "model = BayesianNetwork([('O', 'Porucha'), ('T', 'R')])\n",
    "\n",
    "estimator = EM(BayesianNetwork(model), pearson_data[['T', 'R', 'K', 'O', 'Porucha']])\n",
    "\n",
    "est_disc = estimator.get_parameters(max_iter = 5, seed = 0)\n",
    "print_full(est_disc['cpds'][1])"
   ]
  },
  {
   "cell_type": "markdown",
   "id": "56a9e124-1787-4a50-a5db-0b3dbb12b602",
   "metadata": {},
   "source": [
    "### EM hill climbing"
   ]
  },
  {
   "cell_type": "code",
   "execution_count": 188,
   "id": "0f34d25b-c98c-4ba3-9362-0e74ab636c25",
   "metadata": {},
   "outputs": [
    {
     "data": {
      "application/vnd.jupyter.widget-view+json": {
       "model_id": "c78e9f29e6264f499b2a84860ffcbd3f",
       "version_major": 2,
       "version_minor": 0
      },
      "text/plain": [
       "  0%|          | 0/5 [00:00<?, ?it/s]"
      ]
     },
     "metadata": {},
     "output_type": "display_data"
    },
    {
     "name": "stdout",
     "output_type": "stream",
     "text": [
      "0\n",
      "1\n",
      "<class 'pgmpy.factors.discrete.CPD.TabularCPD'>\n",
      "1\n",
      "2\n",
      "<class 'pgmpy.factors.discrete.CPD.TabularCPD'>\n",
      "<class 'pgmpy.factors.discrete.CPD.TabularCPD'>\n",
      "<class 'pgmpy.factors.discrete.CPD.TabularCPD'>\n",
      "<class 'pgmpy.factors.discrete.CPD.TabularCPD'>\n",
      "<class 'pgmpy.factors.discrete.CPD.TabularCPD'>\n",
      "+------------+------+------+--------------------+---------------------+----------------------+----------------------+--------------------+----------------------+----------------------+-----------------------+----------------------+---------------------+----------------------+---------------------+---------------------+---------------------+---------------------+---------------------+---------------------+---------------------+--------------------+---------------------+-------+-------+-------+\n",
      "| K          | K(2) | K(3) | K(4)               | K(5)                | K(6)                 | K(7)                 | K(8)               | K(9)                 | K(10)                | K(11)                 | K(12)                | K(13)               | K(14)                | K(15)               | K(16)               | K(17)               | K(18)               | K(19)               | K(20)               | K(21)               | K(22)              | K(23)               | K(24) | K(25) | K(26) |\n",
      "+------------+------+------+--------------------+---------------------+----------------------+----------------------+--------------------+----------------------+----------------------+-----------------------+----------------------+---------------------+----------------------+---------------------+---------------------+---------------------+---------------------+---------------------+---------------------+---------------------+--------------------+---------------------+-------+-------+-------+\n",
      "| Porucha(0) | 0.0  | 0.0  | 0.2916666666666667 | 0.9310344827586207  | 0.9907407407407407   | 0.9952153110047847   | 0.993920972644377  | 0.9937238493723849   | 0.9893475366178429   | 0.9988262910798122    | 0.9945054945054945   | 0.992818671454219   | 0.9948409286328461   | 0.9826166514181153  | 0.9630836047774158  | 0.9590643274853801  | 0.917004048582996   | 0.8821292775665399  | 0.8363636363636363  | 0.7064220183486238  | 0.4358974358974359 | 0.14285714285714285 | 0.125 | 0.0   | 0.0   |\n",
      "+------------+------+------+--------------------+---------------------+----------------------+----------------------+--------------------+----------------------+----------------------+-----------------------+----------------------+---------------------+----------------------+---------------------+---------------------+---------------------+---------------------+---------------------+---------------------+---------------------+--------------------+---------------------+-------+-------+-------+\n",
      "| Porucha(1) | 1.0  | 1.0  | 0.7083333333333334 | 0.06896551724137931 | 0.009259259259259259 | 0.004784688995215311 | 0.0060790273556231 | 0.006276150627615063 | 0.010652463382157125 | 0.0011737089201877935 | 0.005494505494505495 | 0.00718132854578097 | 0.005159071367153913 | 0.01738334858188472 | 0.03691639522258415 | 0.04093567251461988 | 0.08299595141700405 | 0.11787072243346007 | 0.16363636363636364 | 0.29357798165137616 | 0.5641025641025641 | 0.8571428571428571  | 0.875 | 1.0   | 1.0   |\n",
      "+------------+------+------+--------------------+---------------------+----------------------+----------------------+--------------------+----------------------+----------------------+-----------------------+----------------------+---------------------+----------------------+---------------------+---------------------+---------------------+---------------------+---------------------+---------------------+---------------------+--------------------+---------------------+-------+-------+-------+\n"
     ]
    }
   ],
   "source": [
    "dag = DAG([('R', 'O'), ('R', 'T'), ('R', 'Porucha'), ('K', 'R'), ('K', 'O'), ('K', 'T'), ('O', 'T'), ('O', 'Porucha')])\n",
    "\n",
    "\n",
    "model = BayesianNetwork([('K', 'Porucha'), ('Porucha', 'O'), ('Porucha', 'R'), ('Porucha', 'T')])\n",
    "\n",
    "estimator = EM(BayesianNetwork(model), hc_data[['K', 'T', 'R', 'O', 'Porucha']])\n",
    "\n",
    "est_disc = estimator.get_parameters(max_iter = 5, seed = 0)\n",
    "\n",
    "print_full(est_disc['cpds'][1])"
   ]
  },
  {
   "cell_type": "markdown",
   "id": "33559f0a-b0c6-4552-aec9-1aaed4624ab0",
   "metadata": {},
   "source": [
    "## Bayesian approach"
   ]
  },
  {
   "cell_type": "markdown",
   "id": "5d598c97-b9c8-45e5-8f65-e4f01146df87",
   "metadata": {},
   "source": [
    "### Bayes hill climbing"
   ]
  },
  {
   "cell_type": "code",
   "execution_count": 189,
   "id": "fc45f298-40c5-415a-b2b7-93e97fab501a",
   "metadata": {},
   "outputs": [
    {
     "name": "stdout",
     "output_type": "stream",
     "text": [
      "+------------+---------------------+---------------------+--------------------+---------------------+----------------------+----------------------+----------------------+----------------------+----------------------+-----------------------+----------------------+----------------------+----------------------+----------------------+---------------------+----------------------+---------------------+---------------------+---------------------+--------------------+--------------------+---------------------+---------------------+----------------------+----------------------+\n",
      "| K          | K(2)                | K(3)                | K(4)               | K(5)                | K(6)                 | K(7)                 | K(8)                 | K(9)                 | K(10)                | K(11)                 | K(12)                | K(13)                | K(14)                | K(15)                | K(16)               | K(17)                | K(18)               | K(19)               | K(20)               | K(21)              | K(22)              | K(23)               | K(24)               | K(25)                | K(26)                |\n",
      "+------------+---------------------+---------------------+--------------------+---------------------+----------------------+----------------------+----------------------+----------------------+----------------------+-----------------------+----------------------+----------------------+----------------------+----------------------+---------------------+----------------------+---------------------+---------------------+---------------------+--------------------+--------------------+---------------------+---------------------+----------------------+----------------------+\n",
      "| Porucha(0) | 0.08333333333333333 | 0.01612903225806452 | 0.2933884297520661 | 0.929553264604811   | 0.989833641404806    | 0.9947418738049714   | 0.9936208991494532   | 0.9935173567544959   | 0.9892172523961661   | 0.9987092231870452    | 0.9944149423182568   | 0.9927302100161551   | 0.9947558459422284   | 0.9825283571167216   | 0.9629830655666521  | 0.9589301373867289   | 0.9168352893565358  | 0.881838905775076   | 0.835956416464891   | 0.7060439560439561 | 0.4362244897959184 | 0.14539007092198578 | 0.13414634146341467 | 0.023809523809523815 | 0.045454545454545456 |\n",
      "+------------+---------------------+---------------------+--------------------+---------------------+----------------------+----------------------+----------------------+----------------------+----------------------+-----------------------+----------------------+----------------------+----------------------+----------------------+---------------------+----------------------+---------------------+---------------------+---------------------+--------------------+--------------------+---------------------+---------------------+----------------------+----------------------+\n",
      "| Porucha(1) | 0.9166666666666666  | 0.9838709677419355  | 0.7066115702479339 | 0.07044673539518899 | 0.010166358595194087 | 0.005258126195028682 | 0.006379100850546779 | 0.006482643245503973 | 0.010782747603833865 | 0.0012907768129547055 | 0.005585057681743271 | 0.007269789983844912 | 0.005244154057771665 | 0.017471642883278453 | 0.03701693443334781 | 0.041069862613270974 | 0.08316471064346417 | 0.11816109422492402 | 0.16404358353510898 | 0.293956043956044  | 0.5637755102040817 | 0.8546099290780141  | 0.8658536585365854  | 0.9761904761904763   | 0.9545454545454545   |\n",
      "+------------+---------------------+---------------------+--------------------+---------------------+----------------------+----------------------+----------------------+----------------------+----------------------+-----------------------+----------------------+----------------------+----------------------+----------------------+---------------------+----------------------+---------------------+---------------------+---------------------+--------------------+--------------------+---------------------+---------------------+----------------------+----------------------+\n"
     ]
    }
   ],
   "source": [
    "\n",
    "\n",
    "g = DAG()\n",
    "dag = DAG([('K', 'Porucha'), ('Porucha', 'O'), ('Porucha', 'R'), ('Porucha', 'T')])\n",
    "\n",
    "estimator = BE(BayesianNetwork(dag), hc_data[['T', 'R', 'K', 'O', 'Porucha']])\n",
    "\n",
    "est = estimator.get_parameters(prior_type='BDeu', equivalent_sample_size=5)\n",
    "\n",
    "estimator.estimate_cpd('Porucha')\n",
    "\n",
    "print_full(estimator.estimate_cpd('Porucha'))"
   ]
  },
  {
   "cell_type": "markdown",
   "id": "850e85ec-818c-4f65-a212-545a3d1909d2",
   "metadata": {},
   "source": [
    "### Bayes pearson"
   ]
  },
  {
   "cell_type": "code",
   "execution_count": 192,
   "id": "7f069ca8-3777-4b7a-a031-00b936fb2bcb",
   "metadata": {},
   "outputs": [
    {
     "name": "stdout",
     "output_type": "stream",
     "text": [
      "+------------+--------------------+----------------------+----------------------+----------------------+----------------------+----------------------+---------------------+----------------------+---------------------+---------------------+--------------------+-------------------+---------------------+----------------------+----------------------+---------------------+---------------------+----------------------+----------------------+---------------------+---------------------+--------------------+--------------------+---------------------+---------------------+---------------------+\n",
      "| O          | O(10)              | O(11)                | O(12)                | O(13)                | O(14)                | O(15)                | O(16)               | O(17)                | O(18)               | O(19)               | O(20)              | O(21)             | O(22)               | O(23)                | O(24)                | O(25)               | O(26)               | O(27)                | O(28)                | O(29)               | O(30)               | O(31)              | O(32)              | O(33)               | O(34)               | O(35)               |\n",
      "+------------+--------------------+----------------------+----------------------+----------------------+----------------------+----------------------+---------------------+----------------------+---------------------+---------------------+--------------------+-------------------+---------------------+----------------------+----------------------+---------------------+---------------------+----------------------+----------------------+---------------------+---------------------+--------------------+--------------------+---------------------+---------------------+---------------------+\n",
      "| Porucha(0) | 0.9750755939524838 | 0.9792768611352333   | 0.9737719956634142   | 0.977932257161519    | 0.9796594134342478   | 0.9889019180835915   | 0.9647934718600151  | 0.9845127171996978   | 0.9777221420690825  | 0.9731453039188308  | 0.9750755939524838 | 0.976044175039442 | 0.9779652480483505  | 0.9842724405421532   | 0.9845464444258313   | 0.9735425254479684  | 0.9770988670475452  | 0.9784358826912017   | 0.9822915790359216   | 0.9495928817258457  | 0.9331482272533105  | 0.8494870887866997 | 0.8278876468902264 | 0.654659616655651   | 0.8847780126849895  | 0.21111111111111117 |\n",
      "+------------+--------------------+----------------------+----------------------+----------------------+----------------------+----------------------+---------------------+----------------------+---------------------+---------------------+--------------------+-------------------+---------------------+----------------------+----------------------+---------------------+---------------------+----------------------+----------------------+---------------------+---------------------+--------------------+--------------------+---------------------+---------------------+---------------------+\n",
      "| Porucha(1) | 0.0249244060475162 | 0.020723138864766715 | 0.026228004336585772 | 0.022067742838480918 | 0.020340586565752126 | 0.011098081916408408 | 0.03520652813998486 | 0.015487282800302189 | 0.02227785793091742 | 0.02685469608116913 | 0.0249244060475162 | 0.023955824960558 | 0.02203475195164946 | 0.015727559457846728 | 0.015453555574168689 | 0.02645747455203163 | 0.02290113295245473 | 0.021564117308798158 | 0.017708420964078403 | 0.05040711827415428 | 0.06685177274668945 | 0.1505129112133003 | 0.1721123531097736 | 0.34534038334434897 | 0.11522198731501057 | 0.788888888888889   |\n",
      "+------------+--------------------+----------------------+----------------------+----------------------+----------------------+----------------------+---------------------+----------------------+---------------------+---------------------+--------------------+-------------------+---------------------+----------------------+----------------------+---------------------+---------------------+----------------------+----------------------+---------------------+---------------------+--------------------+--------------------+---------------------+---------------------+---------------------+\n"
     ]
    }
   ],
   "source": [
    "\n",
    "\n",
    "model = BayesianNetwork([('O', 'Porucha'), ('T', 'R')])\n",
    "\n",
    "estimator = BE(model, pearson_data[['T', 'R', 'K', 'O', 'Porucha']])\n",
    "est = estimator.get_parameters(prior_type='BDeu', equivalent_sample_size=5)\n",
    "\n",
    "estimator.estimate_cpd('Porucha')\n",
    "\n",
    "print_full(estimator.estimate_cpd('Porucha'))"
   ]
  },
  {
   "cell_type": "code",
   "execution_count": 191,
   "id": "fcb78aa5-7db0-441b-a498-d7e7a9d409a1",
   "metadata": {},
   "outputs": [
    {
     "name": "stdout",
     "output_type": "stream",
     "text": [
      "+------------+----------------------+----------------------+---------------------+----------------------+---------------------+--------------------+\n",
      "| O          | O(1)                 | O(2)                 | O(3)                | O(4)                 | O(5)                | O(6)               |\n",
      "+------------+----------------------+----------------------+---------------------+----------------------+---------------------+--------------------+\n",
      "| Porucha(0) | 0.9746789435425249   | 0.9780806838049603   | 0.9771371769383699  | 0.9794379931994611   | 0.9046968869470234  | 0.702247191011236  |\n",
      "+------------+----------------------+----------------------+---------------------+----------------------+---------------------+--------------------+\n",
      "| Porucha(1) | 0.025321056457475167 | 0.021919316195039826 | 0.02286282306163022 | 0.020562006800538914 | 0.09530311305297649 | 0.2977528089887641 |\n",
      "+------------+----------------------+----------------------+---------------------+----------------------+---------------------+--------------------+\n"
     ]
    }
   ],
   "source": [
    "\n",
    "g = DAG()\n",
    "dag = DAG([('O', 'Porucha'), ('T', 'R')])\n",
    "\n",
    "estimator = BE(BayesianNetwork(dag), disc_data[['T', 'R', 'K', 'O', 'Porucha']])\n",
    "\n",
    "est = estimator.get_parameters(prior_type='BDeu', equivalent_sample_size=5)\n",
    "\n",
    "print_full(estimator.estimate_cpd('Porucha'))"
   ]
  },
  {
   "cell_type": "markdown",
   "id": "1a334210-5a36-48fd-8f3b-1e30158a5869",
   "metadata": {},
   "source": [
    "# SEM"
   ]
  },
  {
   "cell_type": "code",
   "execution_count": null,
   "id": "da9bfb6e",
   "metadata": {},
   "outputs": [],
   "source": [
    "\n",
    "data_normal_pearson = preprocess_pearson.sem_bin_data(20, 25, x_test, pd.read_csv(\"pred_normal.csv\", header = None))\n",
    "data_normal_hc = preprocess_hc.sem_bin_data(20, 8, x_test, pd.read_csv(\"pred_normal.csv\", header = None))\n",
    "\n",
    "data_skewed_pearson = preprocess_pearson.sem_bin_data(20, 25, x_test, pd.read_csv(\"pred_skewed_normal.csv\", header = None))\n",
    "\n",
    "data_skewed_hc = preprocess_hc.sem_bin_data(20, 8, x_test, pd.read_csv(\"pred_skewed_normal.csv\", header = None))"
   ]
  },
  {
   "cell_type": "code",
   "execution_count": 129,
   "id": "0051da34-7fc4-4b10-a5d5-1b9dd3b78267",
   "metadata": {},
   "outputs": [
    {
     "name": "stdout",
     "output_type": "stream",
     "text": [
      "+------------+----------------------+---------------------+----------------------+----------------------+--------------------+----------------------+----------------------+----------------------+----------------------+----------------------+----------------------+---------------------+---------------------+--------------------+---------+\n",
      "| O          | O(5)                 | O(6)                | O(7)                 | O(8)                 | O(9)               | O(10)                | O(11)                | O(12)                | O(13)                | O(14)                | O(15)                | O(16)               | O(17)               | O(18)              | O(19)   |\n",
      "+------------+----------------------+---------------------+----------------------+----------------------+--------------------+----------------------+----------------------+----------------------+----------------------+----------------------+----------------------+---------------------+---------------------+--------------------+---------+\n",
      "| Porucha(0) | 0.9749251497005987   | 0.9741144414168937  | 0.9803165584415585   | 0.9847666795217894   | 0.9742288961038962 | 0.9763763352506163   | 0.9744774919614149   | 0.9814890154597234   | 0.9778814935064936   | 0.9801717089125103   | 0.9718623481781377   | 0.9242722265932337  | 0.8479887745556595  | 0.720108695652174  | 0.21875 |\n",
      "+------------+----------------------+---------------------+----------------------+----------------------+--------------------+----------------------+----------------------+----------------------+----------------------+----------------------+----------------------+---------------------+---------------------+--------------------+---------+\n",
      "| Porucha(1) | 0.025074850299401194 | 0.02588555858310627 | 0.019683441558441563 | 0.015233320478210568 | 0.0257711038961039 | 0.023623664749383735 | 0.025522508038585214 | 0.018510984540276647 | 0.022118506493506496 | 0.019828291087489784 | 0.028137651821862352 | 0.07572777340676634 | 0.15201122544434048 | 0.2798913043478261 | 0.78125 |\n",
      "+------------+----------------------+---------------------+----------------------+----------------------+--------------------+----------------------+----------------------+----------------------+----------------------+----------------------+----------------------+---------------------+---------------------+--------------------+---------+\n",
      "+------------+----------------------+---------------------+----------------------+----------------------+--------------------+----------------------+----------------------+----------------------+----------------------+----------------------+----------------------+---------------------+---------------------+--------------------+---------+\n",
      "| O          | O(5)                 | O(6)                | O(7)                 | O(8)                 | O(9)               | O(10)                | O(11)                | O(12)                | O(13)                | O(14)                | O(15)                | O(16)               | O(17)               | O(18)              | O(19)   |\n",
      "+------------+----------------------+---------------------+----------------------+----------------------+--------------------+----------------------+----------------------+----------------------+----------------------+----------------------+----------------------+---------------------+---------------------+--------------------+---------+\n",
      "| Porucha(0) | 0.9749251497005987   | 0.9741144414168937  | 0.9803165584415585   | 0.9847666795217894   | 0.9742288961038962 | 0.9763763352506163   | 0.9744774919614149   | 0.9814890154597234   | 0.9778814935064936   | 0.9801717089125103   | 0.9718623481781377   | 0.9242722265932337  | 0.8479887745556595  | 0.720108695652174  | 0.21875 |\n",
      "+------------+----------------------+---------------------+----------------------+----------------------+--------------------+----------------------+----------------------+----------------------+----------------------+----------------------+----------------------+---------------------+---------------------+--------------------+---------+\n",
      "| Porucha(1) | 0.025074850299401194 | 0.02588555858310627 | 0.019683441558441563 | 0.015233320478210568 | 0.0257711038961039 | 0.023623664749383735 | 0.025522508038585214 | 0.018510984540276647 | 0.022118506493506496 | 0.019828291087489784 | 0.028137651821862352 | 0.07572777340676634 | 0.15201122544434048 | 0.2798913043478261 | 0.78125 |\n",
      "+------------+----------------------+---------------------+----------------------+----------------------+--------------------+----------------------+----------------------+----------------------+----------------------+----------------------+----------------------+---------------------+---------------------+--------------------+---------+\n"
     ]
    }
   ],
   "source": [
    "\n",
    "\n",
    "\n",
    "for i in [data_skewed_pearson, data_normal_pearson]:\n",
    "    g = DAG()\n",
    "    dag = DAG([('O', 'Porucha'), ('T', 'R')])\n",
    "\n",
    "    estimator = BE(BayesianNetwork(dag), i[['T', 'R', 'K', 'O', 'Porucha']])\n",
    "\n",
    "    est = estimator.get_parameters(prior_type='BDeu', equivalent_sample_size=5)\n",
    "\n",
    "    estimator.estimate_cpd('Porucha')\n",
    "\n",
    "    print_full(estimator.estimate_cpd('Porucha'))"
   ]
  },
  {
   "cell_type": "code",
   "execution_count": 124,
   "id": "6d1a6c39-cc19-48ca-937e-2013ac92832a",
   "metadata": {},
   "outputs": [
    {
     "name": "stdout",
     "output_type": "stream",
     "text": [
      "+------------+------+---------------------+---------------------+------------------------+-----------------------+------------------------+------------------------+-----------------------+-----------------------+-----------------------+----------------------+----------------------+----------------------+-------+---------------------+-------+-------+-------+-------+-----------------------+---------------------+----------------------+-----------------------+------------------------+-----------------------+------------------------+------------------------+------------------------+-----------------------+----------------------+-----------------------+---------------------+---------------------+---------------------+-------+---------------------+--------------------+----------------------+---------------------+---------------------+---------------------+----------------------+-----------------------+----------------------+----------------------+-----------------------+-----------------------+-----------------------+-----------------------+---------------------+----------------------+---------------------+----------------------+----------------------+----------------------+--------------------+-------+---------------------+---------------------+----------------------+----------------------+-----------------------+-----------------------+----------------------+-----------------------+------------------------+-----------------------+-----------------------+-----------------------+---------------------+----------------------+----------------------+-------+----------------------+---------------------+---------------------+--------------------+--------------------+---------------------+---------------------+---------------------+---------------------+---------------------+----------------------+---------------------+----------------------+---------------------+-----------------------+---------------------+---------------------+-------+---------------------+---------------------+-------+-------+------+------+------+------+------+----------------------+---------------------+------+----------------------+------+-------+-------+-------+-------+-------+-------+-------+-------+-------+\n",
      "| O          | O(1) | O(1)                | O(1)                | O(1)                   | O(1)                  | O(1)                   | O(1)                   | O(1)                  | O(1)                  | O(1)                  | O(1)                 | O(1)                 | O(1)                 | O(1)  | O(1)                | O(1)  | O(1)  | O(1)  | O(1)  | O(2)                  | O(2)                | O(2)                 | O(2)                  | O(2)                   | O(2)                  | O(2)                   | O(2)                   | O(2)                   | O(2)                  | O(2)                 | O(2)                  | O(2)                | O(2)                | O(2)                | O(2)  | O(2)                | O(2)               | O(2)                 | O(3)                | O(3)                | O(3)                | O(3)                 | O(3)                  | O(3)                 | O(3)                 | O(3)                  | O(3)                  | O(3)                  | O(3)                  | O(3)                | O(3)                 | O(3)                | O(3)                 | O(3)                 | O(3)                 | O(3)               | O(3)  | O(4)                | O(4)                | O(4)                 | O(4)                 | O(4)                  | O(4)                  | O(4)                 | O(4)                  | O(4)                   | O(4)                  | O(4)                  | O(4)                  | O(4)                | O(4)                 | O(4)                 | O(4)  | O(4)                 | O(4)                | O(4)                | O(5)               | O(5)               | O(5)                | O(5)                | O(5)                | O(5)                | O(5)                | O(5)                 | O(5)                | O(5)                 | O(5)                | O(5)                  | O(5)                | O(5)                | O(5)  | O(5)                | O(5)                | O(5)  | O(5)  | O(6) | O(6) | O(6) | O(6) | O(6) | O(6)                 | O(6)                | O(6) | O(6)                 | O(6) | O(6)  | O(6)  | O(6)  | O(6)  | O(6)  | O(6)  | O(6)  | O(6)  | O(6)  |\n",
      "+------------+------+---------------------+---------------------+------------------------+-----------------------+------------------------+------------------------+-----------------------+-----------------------+-----------------------+----------------------+----------------------+----------------------+-------+---------------------+-------+-------+-------+-------+-----------------------+---------------------+----------------------+-----------------------+------------------------+-----------------------+------------------------+------------------------+------------------------+-----------------------+----------------------+-----------------------+---------------------+---------------------+---------------------+-------+---------------------+--------------------+----------------------+---------------------+---------------------+---------------------+----------------------+-----------------------+----------------------+----------------------+-----------------------+-----------------------+-----------------------+-----------------------+---------------------+----------------------+---------------------+----------------------+----------------------+----------------------+--------------------+-------+---------------------+---------------------+----------------------+----------------------+-----------------------+-----------------------+----------------------+-----------------------+------------------------+-----------------------+-----------------------+-----------------------+---------------------+----------------------+----------------------+-------+----------------------+---------------------+---------------------+--------------------+--------------------+---------------------+---------------------+---------------------+---------------------+---------------------+----------------------+---------------------+----------------------+---------------------+-----------------------+---------------------+---------------------+-------+---------------------+---------------------+-------+-------+------+------+------+------+------+----------------------+---------------------+------+----------------------+------+-------+-------+-------+-------+-------+-------+-------+-------+-------+\n",
      "| R          | R(0) | R(1)                | R(2)                | R(3)                   | R(4)                  | R(5)                   | R(6)                   | R(7)                  | R(8)                  | R(9)                  | R(10)                | R(11)                | R(12)                | R(13) | R(14)               | R(15) | R(16) | R(17) | R(18) | R(0)                  | R(1)                | R(2)                 | R(3)                  | R(4)                   | R(5)                  | R(6)                   | R(7)                   | R(8)                   | R(9)                  | R(10)                | R(11)                 | R(12)               | R(13)               | R(14)               | R(15) | R(16)               | R(17)              | R(18)                | R(0)                | R(1)                | R(2)                | R(3)                 | R(4)                  | R(5)                 | R(6)                 | R(7)                  | R(8)                  | R(9)                  | R(10)                 | R(11)               | R(12)                | R(13)               | R(14)                | R(15)                | R(16)                | R(17)              | R(18) | R(0)                | R(1)                | R(2)                 | R(3)                 | R(4)                  | R(5)                  | R(6)                 | R(7)                  | R(8)                   | R(9)                  | R(10)                 | R(11)                 | R(12)               | R(13)                | R(14)                | R(15) | R(16)                | R(17)               | R(18)               | R(0)               | R(1)               | R(2)                | R(3)                | R(4)                | R(5)                | R(6)                | R(7)                 | R(8)                | R(9)                 | R(10)               | R(11)                 | R(12)               | R(13)               | R(14) | R(15)               | R(16)               | R(17) | R(18) | R(0) | R(1) | R(2) | R(3) | R(4) | R(5)                 | R(6)                | R(7) | R(8)                 | R(9) | R(10) | R(11) | R(12) | R(13) | R(14) | R(15) | R(16) | R(17) | R(18) |\n",
      "+------------+------+---------------------+---------------------+------------------------+-----------------------+------------------------+------------------------+-----------------------+-----------------------+-----------------------+----------------------+----------------------+----------------------+-------+---------------------+-------+-------+-------+-------+-----------------------+---------------------+----------------------+-----------------------+------------------------+-----------------------+------------------------+------------------------+------------------------+-----------------------+----------------------+-----------------------+---------------------+---------------------+---------------------+-------+---------------------+--------------------+----------------------+---------------------+---------------------+---------------------+----------------------+-----------------------+----------------------+----------------------+-----------------------+-----------------------+-----------------------+-----------------------+---------------------+----------------------+---------------------+----------------------+----------------------+----------------------+--------------------+-------+---------------------+---------------------+----------------------+----------------------+-----------------------+-----------------------+----------------------+-----------------------+------------------------+-----------------------+-----------------------+-----------------------+---------------------+----------------------+----------------------+-------+----------------------+---------------------+---------------------+--------------------+--------------------+---------------------+---------------------+---------------------+---------------------+---------------------+----------------------+---------------------+----------------------+---------------------+-----------------------+---------------------+---------------------+-------+---------------------+---------------------+-------+-------+------+------+------+------+------+----------------------+---------------------+------+----------------------+------+-------+-------+-------+-------+-------+-------+-------+-------+-------+\n",
      "| Porucha(0) | 0.5  | 0.8782851075126095  | 0.9309041427275476  | 0.9998739982863767     | 0.9998445176938865    | 0.9997668127973137     | 0.9995237188035816     | 0.9984384759525297    | 0.9985422740524781    | 0.9978165938864628    | 0.9927953890489913   | 0.9892703862660943   | 0.9927953890489913   | 0.5   | 0.9789915966386555  | 0.5   | 0.5   | 0.5   | 0.5   | 0.9975751697381182    | 0.8449638732785772  | 0.9486759000693442   | 0.9971075780201026    | 0.9999576680156459     | 0.9999360728258367    | 0.9998717882968358     | 0.9997359247913806     | 0.9995703729163087     | 0.9994784060087628    | 0.9980142970611596   | 0.9985422740524781    | 0.9945770065075923  | 0.9945770065075923  | 0.9945770065075923  | 0.5   | 0.02100840336134454 | 0.1690856313497823 | 0.010729613733905578 | 0.7986899563318777  | 0.8517375771354336  | 0.9505538317530204  | 0.9971281195100983   | 0.9999596168446218    | 0.9999259237310735   | 0.9944170220922989   | 0.9997509215901167    | 0.9996407529817503    | 0.9990879241152864    | 0.9981791697013838    | 0.9074662430500396  | 0.9956521739130435   | 0.9963715529753266  | 0.9927953890489913   | 0.9892703862660943   | 0.007204610951008644 | 0.1690856313497823 | 0.5   | 0.8560274828232355  | 0.8795740752950485  | 0.954125171311101    | 0.9940944628344002   | 0.9999595423429838    | 0.9969407315984349    | 0.9888318232472504   | 0.9997537188454341    | 0.9996155620482854     | 0.9993363419166446    | 0.9989059080962801    | 0.9975751697381182    | 0.8982532751091703  | 0.9927953890489913   | 0.9956521739130435   | 0.5   | 0.010729613733905578 | 0.02100840336134454 | 0.02100840336134454 | 0.1690856313497823 | 0.5522046316891273 | 0.7907299959519632  | 0.9630041694571064  | 0.9626430801248699  | 0.9694386324177536  | 0.9682048915551454  | 0.9996221852803385   | 0.8839676658807679  | 0.9463380930446799   | 0.8870029097963142  | 0.9975751697381182    | 0.8549190535491905  | 0.747288503253796   | 0.5   | 0.9789915966386555  | 0.9789915966386555  | 0.5   | 0.5   | 0.5  | 0.5  | 0.5  | 0.5  | 0.5  | 0.9927953890489913   | 0.9789915966386555  | 0.5  | 0.9892703862660943   | 0.5  | 0.5   | 0.5   | 0.5   | 0.5   | 0.5   | 0.5   | 0.5   | 0.5   | 0.5   |\n",
      "+------------+------+---------------------+---------------------+------------------------+-----------------------+------------------------+------------------------+-----------------------+-----------------------+-----------------------+----------------------+----------------------+----------------------+-------+---------------------+-------+-------+-------+-------+-----------------------+---------------------+----------------------+-----------------------+------------------------+-----------------------+------------------------+------------------------+------------------------+-----------------------+----------------------+-----------------------+---------------------+---------------------+---------------------+-------+---------------------+--------------------+----------------------+---------------------+---------------------+---------------------+----------------------+-----------------------+----------------------+----------------------+-----------------------+-----------------------+-----------------------+-----------------------+---------------------+----------------------+---------------------+----------------------+----------------------+----------------------+--------------------+-------+---------------------+---------------------+----------------------+----------------------+-----------------------+-----------------------+----------------------+-----------------------+------------------------+-----------------------+-----------------------+-----------------------+---------------------+----------------------+----------------------+-------+----------------------+---------------------+---------------------+--------------------+--------------------+---------------------+---------------------+---------------------+---------------------+---------------------+----------------------+---------------------+----------------------+---------------------+-----------------------+---------------------+---------------------+-------+---------------------+---------------------+-------+-------+------+------+------+------+------+----------------------+---------------------+------+----------------------+------+-------+-------+-------+-------+-------+-------+-------+-------+-------+\n",
      "| Porucha(1) | 0.5  | 0.12171489248739048 | 0.06909585727245239 | 0.00012600171362330527 | 0.0001554823061135643 | 0.00023318720268631659 | 0.00047628119641836535 | 0.0015615240474703307 | 0.0014577259475218656 | 0.0021834061135371174 | 0.007204610951008644 | 0.010729613733905578 | 0.007204610951008644 | 0.5   | 0.02100840336134454 | 0.5   | 0.5   | 0.5   | 0.5   | 0.0024248302618816676 | 0.15503612672142286 | 0.051324099930655766 | 0.0028924219798973534 | 4.2331984354098576e-05 | 6.392717416319328e-05 | 0.00012821170316426483 | 0.00026407520861941483 | 0.00042962708369135585 | 0.0005215939912372209 | 0.001985702938840349 | 0.0014577259475218656 | 0.00542299349240781 | 0.00542299349240781 | 0.00542299349240781 | 0.5   | 0.9789915966386555  | 0.8309143686502177 | 0.9892703862660943   | 0.20131004366812227 | 0.14826242286456642 | 0.04944616824697949 | 0.002871880489901696 | 4.038315537822863e-05 | 7.40762689264867e-05 | 0.005582977907701155 | 0.0002490784098834313 | 0.0003592470182497485 | 0.0009120758847136081 | 0.0018208302986161687 | 0.09253375694996027 | 0.004347826086956522 | 0.00362844702467344 | 0.007204610951008644 | 0.010729613733905578 | 0.9927953890489913   | 0.8309143686502177 | 0.5   | 0.14397251717676451 | 0.12042592470495156 | 0.045874828688899034 | 0.005905537165599762 | 4.045765701616688e-05 | 0.0030592684015650845 | 0.011168176752749651 | 0.0002462811545660526 | 0.00038443795171459326 | 0.0006636580833554552 | 0.0010940919037199124 | 0.0024248302618816676 | 0.10174672489082967 | 0.007204610951008644 | 0.004347826086956522 | 0.5   | 0.9892703862660943   | 0.9789915966386555  | 0.9789915966386555  | 0.8309143686502177 | 0.4477953683108727 | 0.20927000404803667 | 0.03699583054289356 | 0.03735691987513007 | 0.03056136758224636 | 0.03179510844485464 | 0.000377814719661478 | 0.11603233411923207 | 0.053661906955320124 | 0.11299709020368572 | 0.0024248302618816676 | 0.14508094645080946 | 0.25271149674620386 | 0.5   | 0.02100840336134454 | 0.02100840336134454 | 0.5   | 0.5   | 0.5  | 0.5  | 0.5  | 0.5  | 0.5  | 0.007204610951008644 | 0.02100840336134454 | 0.5  | 0.010729613733905578 | 0.5  | 0.5   | 0.5   | 0.5   | 0.5   | 0.5   | 0.5   | 0.5   | 0.5   | 0.5   |\n",
      "+------------+------+---------------------+---------------------+------------------------+-----------------------+------------------------+------------------------+-----------------------+-----------------------+-----------------------+----------------------+----------------------+----------------------+-------+---------------------+-------+-------+-------+-------+-----------------------+---------------------+----------------------+-----------------------+------------------------+-----------------------+------------------------+------------------------+------------------------+-----------------------+----------------------+-----------------------+---------------------+---------------------+---------------------+-------+---------------------+--------------------+----------------------+---------------------+---------------------+---------------------+----------------------+-----------------------+----------------------+----------------------+-----------------------+-----------------------+-----------------------+-----------------------+---------------------+----------------------+---------------------+----------------------+----------------------+----------------------+--------------------+-------+---------------------+---------------------+----------------------+----------------------+-----------------------+-----------------------+----------------------+-----------------------+------------------------+-----------------------+-----------------------+-----------------------+---------------------+----------------------+----------------------+-------+----------------------+---------------------+---------------------+--------------------+--------------------+---------------------+---------------------+---------------------+---------------------+---------------------+----------------------+---------------------+----------------------+---------------------+-----------------------+---------------------+---------------------+-------+---------------------+---------------------+-------+-------+------+------+------+------+------+----------------------+---------------------+------+----------------------+------+-------+-------+-------+-------+-------+-------+-------+-------+-------+\n",
      "+------------+------+---------------------+---------------------+-----------------------+-----------------------+-----------------------+----------------------+-----------------------+-----------------------+-----------------------+----------------------+----------------------+----------------------+-------+---------------------+-------+-------+-------+-------+-----------------------+---------------------+---------------------+-----------------------+-----------------------+-----------------------+------------------------+------------------------+------------------------+-----------------------+----------------------+-----------------------+---------------------+---------------------+---------------------+-------+---------------------+--------------------+----------------------+---------------------+---------------------+----------------------+-----------------------+-----------------------+-----------------------+-----------------------+------------------------+-----------------------+-----------------------+-----------------------+---------------------+----------------------+---------------------+----------------------+----------------------+----------------------+--------------------+-------+---------------------+---------------------+---------------------+---------------------+-----------------------+----------------------+----------------------+------------------------+----------------------+-----------------------+-----------------------+-----------------------+---------------------+----------------------+----------------------+-------+----------------------+---------------------+---------------------+----------------------+--------------------+---------------------+---------------------+---------------------+---------------------+---------------------+------------------------+---------------------+----------------------+---------------------+-----------------------+---------------------+---------------------+-------+---------------------+---------------------+-------+-------+------+------+------+------+------+----------------------+---------------------+------+----------------------+------+-------+-------+-------+-------+-------+-------+-------+-------+-------+\n",
      "| O          | O(1) | O(1)                | O(1)                | O(1)                  | O(1)                  | O(1)                  | O(1)                 | O(1)                  | O(1)                  | O(1)                  | O(1)                 | O(1)                 | O(1)                 | O(1)  | O(1)                | O(1)  | O(1)  | O(1)  | O(1)  | O(2)                  | O(2)                | O(2)                | O(2)                  | O(2)                  | O(2)                  | O(2)                   | O(2)                   | O(2)                   | O(2)                  | O(2)                 | O(2)                  | O(2)                | O(2)                | O(2)                | O(2)  | O(2)                | O(2)               | O(2)                 | O(3)                | O(3)                | O(3)                 | O(3)                  | O(3)                  | O(3)                  | O(3)                  | O(3)                   | O(3)                  | O(3)                  | O(3)                  | O(3)                | O(3)                 | O(3)                | O(3)                 | O(3)                 | O(3)                 | O(3)               | O(3)  | O(4)                | O(4)                | O(4)                | O(4)                | O(4)                  | O(4)                 | O(4)                 | O(4)                   | O(4)                 | O(4)                  | O(4)                  | O(4)                  | O(4)                | O(4)                 | O(4)                 | O(4)  | O(4)                 | O(4)                | O(4)                | O(5)                 | O(5)               | O(5)                | O(5)                | O(5)                | O(5)                | O(5)                | O(5)                   | O(5)                | O(5)                 | O(5)                | O(5)                  | O(5)                | O(5)                | O(5)  | O(5)                | O(5)                | O(5)  | O(5)  | O(6) | O(6) | O(6) | O(6) | O(6) | O(6)                 | O(6)                | O(6) | O(6)                 | O(6) | O(6)  | O(6)  | O(6)  | O(6)  | O(6)  | O(6)  | O(6)  | O(6)  | O(6)  |\n",
      "+------------+------+---------------------+---------------------+-----------------------+-----------------------+-----------------------+----------------------+-----------------------+-----------------------+-----------------------+----------------------+----------------------+----------------------+-------+---------------------+-------+-------+-------+-------+-----------------------+---------------------+---------------------+-----------------------+-----------------------+-----------------------+------------------------+------------------------+------------------------+-----------------------+----------------------+-----------------------+---------------------+---------------------+---------------------+-------+---------------------+--------------------+----------------------+---------------------+---------------------+----------------------+-----------------------+-----------------------+-----------------------+-----------------------+------------------------+-----------------------+-----------------------+-----------------------+---------------------+----------------------+---------------------+----------------------+----------------------+----------------------+--------------------+-------+---------------------+---------------------+---------------------+---------------------+-----------------------+----------------------+----------------------+------------------------+----------------------+-----------------------+-----------------------+-----------------------+---------------------+----------------------+----------------------+-------+----------------------+---------------------+---------------------+----------------------+--------------------+---------------------+---------------------+---------------------+---------------------+---------------------+------------------------+---------------------+----------------------+---------------------+-----------------------+---------------------+---------------------+-------+---------------------+---------------------+-------+-------+------+------+------+------+------+----------------------+---------------------+------+----------------------+------+-------+-------+-------+-------+-------+-------+-------+-------+-------+\n",
      "| R          | R(0) | R(1)                | R(2)                | R(3)                  | R(4)                  | R(5)                  | R(6)                 | R(7)                  | R(8)                  | R(9)                  | R(10)                | R(11)                | R(12)                | R(13) | R(14)               | R(15) | R(16) | R(17) | R(18) | R(0)                  | R(1)                | R(2)                | R(3)                  | R(4)                  | R(5)                  | R(6)                   | R(7)                   | R(8)                   | R(9)                  | R(10)                | R(11)                 | R(12)               | R(13)               | R(14)               | R(15) | R(16)               | R(17)              | R(18)                | R(0)                | R(1)                | R(2)                 | R(3)                  | R(4)                  | R(5)                  | R(6)                  | R(7)                   | R(8)                  | R(9)                  | R(10)                 | R(11)               | R(12)                | R(13)               | R(14)                | R(15)                | R(16)                | R(17)              | R(18) | R(0)                | R(1)                | R(2)                | R(3)                | R(4)                  | R(5)                 | R(6)                 | R(7)                   | R(8)                 | R(9)                  | R(10)                 | R(11)                 | R(12)               | R(13)                | R(14)                | R(15) | R(16)                | R(17)               | R(18)               | R(0)                 | R(1)               | R(2)                | R(3)                | R(4)                | R(5)                | R(6)                | R(7)                   | R(8)                | R(9)                 | R(10)               | R(11)                 | R(12)               | R(13)               | R(14) | R(15)               | R(16)               | R(17) | R(18) | R(0) | R(1) | R(2) | R(3) | R(4) | R(5)                 | R(6)                | R(7) | R(8)                 | R(9) | R(10) | R(11) | R(12) | R(13) | R(14) | R(15) | R(16) | R(17) | R(18) |\n",
      "+------------+------+---------------------+---------------------+-----------------------+-----------------------+-----------------------+----------------------+-----------------------+-----------------------+-----------------------+----------------------+----------------------+----------------------+-------+---------------------+-------+-------+-------+-------+-----------------------+---------------------+---------------------+-----------------------+-----------------------+-----------------------+------------------------+------------------------+------------------------+-----------------------+----------------------+-----------------------+---------------------+---------------------+---------------------+-------+---------------------+--------------------+----------------------+---------------------+---------------------+----------------------+-----------------------+-----------------------+-----------------------+-----------------------+------------------------+-----------------------+-----------------------+-----------------------+---------------------+----------------------+---------------------+----------------------+----------------------+----------------------+--------------------+-------+---------------------+---------------------+---------------------+---------------------+-----------------------+----------------------+----------------------+------------------------+----------------------+-----------------------+-----------------------+-----------------------+---------------------+----------------------+----------------------+-------+----------------------+---------------------+---------------------+----------------------+--------------------+---------------------+---------------------+---------------------+---------------------+---------------------+------------------------+---------------------+----------------------+---------------------+-----------------------+---------------------+---------------------+-------+---------------------+---------------------+-------+-------+------+------+------+------+------+----------------------+---------------------+------+----------------------+------+-------+-------+-------+-------+-------+-------+-------+-------+-------+\n",
      "| Porucha(0) | 0.5  | 0.8782851075126095  | 0.9309041427275476  | 0.9998754297673028    | 0.9998445176938865    | 0.9997643065899878    | 0.999502091216889    | 0.9985422740524781    | 0.9985422740524781    | 0.9978165938864628    | 0.9927953890489913   | 0.9892703862660943   | 0.9927953890489913   | 0.5   | 0.9789915966386555  | 0.5   | 0.5   | 0.5   | 0.5   | 0.9975751697381182    | 0.8449638732785772  | 0.948566008677197   | 0.9971075780201026    | 0.9999577495732707    | 0.9999356979346176    | 0.9998732701373753     | 0.9997359247913806     | 0.9995703729163087     | 0.9994784060087628    | 0.9980142970611596   | 0.9985422740524781    | 0.9945770065075923  | 0.9945770065075923  | 0.9945770065075923  | 0.5   | 0.02100840336134454 | 0.1690856313497823 | 0.010729613733905578 | 0.7986899563318777  | 0.8517375771354336  | 0.9504559270516717   | 0.9971443438185265    | 0.9981181449593745    | 0.9999254198860416    | 0.9998801936071309    | 0.9997480600624812     | 0.9996407529817503    | 0.9990879241152864    | 0.9981791697013838    | 0.9074662430500396  | 0.9956521739130435   | 0.9963715529753266  | 0.9927953890489913   | 0.9892703862660943   | 0.007204610951008644 | 0.1690856313497823 | 0.5   | 0.8560274828232355  | 0.8795740752950485  | 0.9540294079947262  | 0.9941117546585845  | 0.9999596168446218    | 0.9969315458161034   | 0.9888931720715077   | 0.9997451320216129     | 0.9996221852803385   | 0.9993363419166446    | 0.9989059080962801    | 0.9975751697381182    | 0.8982532751091703  | 0.9927953890489913   | 0.9956521739130435   | 0.5   | 0.010729613733905578 | 0.02100840336134454 | 0.02100840336134454 | 0.004347826086956522 | 0.5454243591446407 | 0.7907299959519632  | 0.9630041694571064  | 0.962516034724501   | 0.969745714159799   | 0.9678668034698257  | 0.9996347699050402     | 0.8839676658807679  | 0.9463380930446799   | 0.8870029097963142  | 0.9975751697381182    | 0.8549190535491905  | 0.747288503253796   | 0.5   | 0.9789915966386555  | 0.9789915966386555  | 0.5   | 0.5   | 0.5  | 0.5  | 0.5  | 0.5  | 0.5  | 0.9927953890489913   | 0.9789915966386555  | 0.5  | 0.9892703862660943   | 0.5  | 0.5   | 0.5   | 0.5   | 0.5   | 0.5   | 0.5   | 0.5   | 0.5   | 0.5   |\n",
      "+------------+------+---------------------+---------------------+-----------------------+-----------------------+-----------------------+----------------------+-----------------------+-----------------------+-----------------------+----------------------+----------------------+----------------------+-------+---------------------+-------+-------+-------+-------+-----------------------+---------------------+---------------------+-----------------------+-----------------------+-----------------------+------------------------+------------------------+------------------------+-----------------------+----------------------+-----------------------+---------------------+---------------------+---------------------+-------+---------------------+--------------------+----------------------+---------------------+---------------------+----------------------+-----------------------+-----------------------+-----------------------+-----------------------+------------------------+-----------------------+-----------------------+-----------------------+---------------------+----------------------+---------------------+----------------------+----------------------+----------------------+--------------------+-------+---------------------+---------------------+---------------------+---------------------+-----------------------+----------------------+----------------------+------------------------+----------------------+-----------------------+-----------------------+-----------------------+---------------------+----------------------+----------------------+-------+----------------------+---------------------+---------------------+----------------------+--------------------+---------------------+---------------------+---------------------+---------------------+---------------------+------------------------+---------------------+----------------------+---------------------+-----------------------+---------------------+---------------------+-------+---------------------+---------------------+-------+-------+------+------+------+------+------+----------------------+---------------------+------+----------------------+------+-------+-------+-------+-------+-------+-------+-------+-------+-------+\n",
      "| Porucha(1) | 0.5  | 0.12171489248739048 | 0.06909585727245239 | 0.0001245702326971947 | 0.0001554823061135643 | 0.0002356934100122561 | 0.000497908783110934 | 0.0014577259475218656 | 0.0014577259475218656 | 0.0021834061135371174 | 0.007204610951008644 | 0.010729613733905578 | 0.007204610951008644 | 0.5   | 0.02100840336134454 | 0.5   | 0.5   | 0.5   | 0.5   | 0.0024248302618816676 | 0.15503612672142286 | 0.05143399132280299 | 0.0028924219798973534 | 4.225042672930996e-05 | 6.430206538234007e-05 | 0.00012672986262482892 | 0.00026407520861941483 | 0.00042962708369135585 | 0.0005215939912372209 | 0.001985702938840349 | 0.0014577259475218656 | 0.00542299349240781 | 0.00542299349240781 | 0.00542299349240781 | 0.5   | 0.9789915966386555  | 0.8309143686502177 | 0.9892703862660943   | 0.20131004366812227 | 0.14826242286456642 | 0.049544072948328265 | 0.0028556561814735435 | 0.0018818550406254542 | 7.458011395841411e-05 | 0.0001198063928691235 | 0.00025193993751889554 | 0.0003592470182497485 | 0.0009120758847136081 | 0.0018208302986161687 | 0.09253375694996027 | 0.004347826086956522 | 0.00362844702467344 | 0.007204610951008644 | 0.010729613733905578 | 0.9927953890489913   | 0.8309143686502177 | 0.5   | 0.14397251717676451 | 0.12042592470495156 | 0.04597059200527366 | 0.00588824534141549 | 4.038315537822863e-05 | 0.003068454183896541 | 0.011106827928492267 | 0.00025486797838719546 | 0.000377814719661478 | 0.0006636580833554552 | 0.0010940919037199124 | 0.0024248302618816676 | 0.10174672489082967 | 0.007204610951008644 | 0.004347826086956522 | 0.5   | 0.9892703862660943   | 0.9789915966386555  | 0.9789915966386555  | 0.9956521739130435   | 0.4545756408553593 | 0.20927000404803667 | 0.03699583054289356 | 0.03748396527549894 | 0.03025428584020096 | 0.03213319653017443 | 0.00036523009495982464 | 0.11603233411923207 | 0.053661906955320124 | 0.11299709020368572 | 0.0024248302618816676 | 0.14508094645080946 | 0.25271149674620386 | 0.5   | 0.02100840336134454 | 0.02100840336134454 | 0.5   | 0.5   | 0.5  | 0.5  | 0.5  | 0.5  | 0.5  | 0.007204610951008644 | 0.02100840336134454 | 0.5  | 0.010729613733905578 | 0.5  | 0.5   | 0.5   | 0.5   | 0.5   | 0.5   | 0.5   | 0.5   | 0.5   | 0.5   |\n",
      "+------------+------+---------------------+---------------------+-----------------------+-----------------------+-----------------------+----------------------+-----------------------+-----------------------+-----------------------+----------------------+----------------------+----------------------+-------+---------------------+-------+-------+-------+-------+-----------------------+---------------------+---------------------+-----------------------+-----------------------+-----------------------+------------------------+------------------------+------------------------+-----------------------+----------------------+-----------------------+---------------------+---------------------+---------------------+-------+---------------------+--------------------+----------------------+---------------------+---------------------+----------------------+-----------------------+-----------------------+-----------------------+-----------------------+------------------------+-----------------------+-----------------------+-----------------------+---------------------+----------------------+---------------------+----------------------+----------------------+----------------------+--------------------+-------+---------------------+---------------------+---------------------+---------------------+-----------------------+----------------------+----------------------+------------------------+----------------------+-----------------------+-----------------------+-----------------------+---------------------+----------------------+----------------------+-------+----------------------+---------------------+---------------------+----------------------+--------------------+---------------------+---------------------+---------------------+---------------------+---------------------+------------------------+---------------------+----------------------+---------------------+-----------------------+---------------------+---------------------+-------+---------------------+---------------------+-------+-------+------+------+------+------+------+----------------------+---------------------+------+----------------------+------+-------+-------+-------+-------+-------+-------+-------+-------+-------+\n"
     ]
    }
   ],
   "source": [
    "\n",
    "\n",
    "for i in [data_skewed_hc, data_normal_hc]:\n",
    "    g = DAG()\n",
    "    dag = DAG([('R', 'O'), ('R', 'T'), ('R', 'Porucha'), ('K', 'R'), ('K', 'O'), ('K', 'T'), ('O', 'T'), ('O', 'Porucha')])\n",
    "\n",
    "    estimator = BE(BayesianNetwork(dag), i[['T', 'R', 'K', 'O', 'Porucha']])\n",
    "\n",
    "    est = estimator.get_parameters(prior_type='BDeu', equivalent_sample_size=5)\n",
    "\n",
    "    estimator.estimate_cpd('Porucha')\n",
    "\n",
    "    print_full(estimator.estimate_cpd('Porucha'))"
   ]
  },
  {
   "cell_type": "code",
   "execution_count": 131,
   "id": "08095f1c-7a78-492f-ac63-64c3c0223eba",
   "metadata": {},
   "outputs": [
    {
     "data": {
      "application/vnd.jupyter.widget-view+json": {
       "model_id": "fd523c5e695c4b10b87d3cc40473de77",
       "version_major": 2,
       "version_minor": 0
      },
      "text/plain": [
       "  0%|          | 0/5 [00:00<?, ?it/s]"
      ]
     },
     "metadata": {},
     "output_type": "display_data"
    },
    {
     "name": "stdout",
     "output_type": "stream",
     "text": [
      "0\n",
      "1\n",
      "<class 'pgmpy.factors.discrete.CPD.TabularCPD'>\n",
      "1\n",
      "2\n",
      "<class 'pgmpy.factors.discrete.CPD.TabularCPD'>\n",
      "<class 'pgmpy.factors.discrete.CPD.TabularCPD'>\n",
      "<class 'pgmpy.factors.discrete.CPD.TabularCPD'>\n",
      "<class 'pgmpy.factors.discrete.CPD.TabularCPD'>\n",
      "+------------+----------------------+---------------------+--------------------+----------------------+----------------------+---------------------+----------------------+----------------------+---------------------+--------------------+----------------------+--------------------+---------------------+--------------------+-------+\n",
      "| O          | O(5)                 | O(6)                | O(7)               | O(8)                 | O(9)                 | O(10)               | O(11)                | O(12)                | O(13)               | O(14)              | O(15)                | O(16)              | O(17)               | O(18)              | O(19) |\n",
      "+------------+----------------------+---------------------+--------------------+----------------------+----------------------+---------------------+----------------------+----------------------+---------------------+--------------------+----------------------+--------------------+---------------------+--------------------+-------+\n",
      "| Porucha(0) | 0.9752808988764045   | 0.9742990654205608  | 0.9805115712545676 | 0.9849537037037037   | 0.97442143727162     | 0.9765721331689272  | 0.9746682750301568   | 0.9816849816849816   | 0.9780755176613886  | 0.9803680981595092 | 0.9720534629404617   | 0.9244391971664699 | 0.848314606741573   | 0.7213114754098361 | 0.2   |\n",
      "+------------+----------------------+---------------------+--------------------+----------------------+----------------------+---------------------+----------------------+----------------------+---------------------+--------------------+----------------------+--------------------+---------------------+--------------------+-------+\n",
      "| Porucha(1) | 0.024719101123595506 | 0.02570093457943925 | 0.0194884287454324 | 0.015046296296296295 | 0.025578562728380026 | 0.02342786683107275 | 0.025331724969843185 | 0.018315018315018316 | 0.02192448233861145 | 0.0196319018404908 | 0.027946537059538274 | 0.0755608028335301 | 0.15168539325842698 | 0.2786885245901639 | 0.8   |\n",
      "+------------+----------------------+---------------------+--------------------+----------------------+----------------------+---------------------+----------------------+----------------------+---------------------+--------------------+----------------------+--------------------+---------------------+--------------------+-------+\n"
     ]
    },
    {
     "data": {
      "application/vnd.jupyter.widget-view+json": {
       "model_id": "ed18f6189cc74e3fa87401aafa0ece5a",
       "version_major": 2,
       "version_minor": 0
      },
      "text/plain": [
       "  0%|          | 0/5 [00:00<?, ?it/s]"
      ]
     },
     "metadata": {},
     "output_type": "display_data"
    },
    {
     "name": "stdout",
     "output_type": "stream",
     "text": [
      "0\n",
      "1\n",
      "<class 'pgmpy.factors.discrete.CPD.TabularCPD'>\n",
      "1\n",
      "2\n",
      "<class 'pgmpy.factors.discrete.CPD.TabularCPD'>\n",
      "<class 'pgmpy.factors.discrete.CPD.TabularCPD'>\n",
      "<class 'pgmpy.factors.discrete.CPD.TabularCPD'>\n",
      "<class 'pgmpy.factors.discrete.CPD.TabularCPD'>\n",
      "+------------+----------------------+---------------------+--------------------+----------------------+----------------------+---------------------+----------------------+----------------------+---------------------+--------------------+----------------------+--------------------+---------------------+--------------------+-------+\n",
      "| O          | O(5)                 | O(6)                | O(7)               | O(8)                 | O(9)                 | O(10)               | O(11)                | O(12)                | O(13)               | O(14)              | O(15)                | O(16)              | O(17)               | O(18)              | O(19) |\n",
      "+------------+----------------------+---------------------+--------------------+----------------------+----------------------+---------------------+----------------------+----------------------+---------------------+--------------------+----------------------+--------------------+---------------------+--------------------+-------+\n",
      "| Porucha(0) | 0.9752808988764045   | 0.9742990654205608  | 0.9805115712545676 | 0.9849537037037037   | 0.97442143727162     | 0.9765721331689272  | 0.9746682750301568   | 0.9816849816849816   | 0.9780755176613886  | 0.9803680981595092 | 0.9720534629404617   | 0.9244391971664699 | 0.848314606741573   | 0.7213114754098361 | 0.2   |\n",
      "+------------+----------------------+---------------------+--------------------+----------------------+----------------------+---------------------+----------------------+----------------------+---------------------+--------------------+----------------------+--------------------+---------------------+--------------------+-------+\n",
      "| Porucha(1) | 0.024719101123595506 | 0.02570093457943925 | 0.0194884287454324 | 0.015046296296296295 | 0.025578562728380026 | 0.02342786683107275 | 0.025331724969843185 | 0.018315018315018316 | 0.02192448233861145 | 0.0196319018404908 | 0.027946537059538274 | 0.0755608028335301 | 0.15168539325842698 | 0.2786885245901639 | 0.8   |\n",
      "+------------+----------------------+---------------------+--------------------+----------------------+----------------------+---------------------+----------------------+----------------------+---------------------+--------------------+----------------------+--------------------+---------------------+--------------------+-------+\n"
     ]
    }
   ],
   "source": [
    "\n",
    "for i in [data_normal_pearson, data_skewed_pearson]:\n",
    "    model = BayesianNetwork([('O', 'Porucha'), ('T', 'R')])\n",
    "\n",
    "    estimator = EM(BayesianNetwork(model), i[['T', 'R', 'K', 'O', 'Porucha']])\n",
    "\n",
    "    est_disc = estimator.get_parameters(max_iter = 5, seed = 0)\n",
    "    print_full(est_disc['cpds'][1])"
   ]
  },
  {
   "cell_type": "code",
   "execution_count": 132,
   "id": "c1f507fb-91b9-4062-9216-103ded0cc9ec",
   "metadata": {},
   "outputs": [
    {
     "data": {
      "application/vnd.jupyter.widget-view+json": {
       "model_id": "2f74605db9b14fd5b9ee98fc0209041d",
       "version_major": 2,
       "version_minor": 0
      },
      "text/plain": [
       "  0%|          | 0/5 [00:00<?, ?it/s]"
      ]
     },
     "metadata": {},
     "output_type": "display_data"
    },
    {
     "name": "stdout",
     "output_type": "stream",
     "text": [
      "0\n",
      "1\n",
      "<class 'pgmpy.factors.discrete.CPD.TabularCPD'>\n",
      "1\n",
      "2\n",
      "<class 'pgmpy.factors.discrete.CPD.TabularCPD'>\n",
      "<class 'pgmpy.factors.discrete.CPD.TabularCPD'>\n",
      "<class 'pgmpy.factors.discrete.CPD.TabularCPD'>\n",
      "+------------+------+---------------------+---------------------+------+------+------+------+------+------+------+-------+-------+-------+-------+-------+-------+-------+-------+-------+------+---------------------+---------------------+----------------------+------+------+------+------+------+------+-------+-------+-------+-------+-------+-------+-------+---------------------+-------+------+---------------------+---------------------+----------------------+------+------+---------------------+------+------+------+-------+---------------------+-------+-------+-------+-------+-------+---------------------+-------+---------------------+---------------------+---------------------+----------------------+------+-----------------------+----------------------+------+------+------+-------+-------+-------+-------+-------+-------+-------+-------+-------+---------------------+---------------------+---------------------+---------------------+---------------------+----------------------+----------------------+------+---------------------+---------------------+--------------------+-------+---------------------+-------+-------+-------+-------+-------+-------+------+------+------+------+------+------+------+------+------+------+-------+-------+-------+-------+-------+-------+-------+-------+-------+\n",
      "| O          | O(1) | O(1)                | O(1)                | O(1) | O(1) | O(1) | O(1) | O(1) | O(1) | O(1) | O(1)  | O(1)  | O(1)  | O(1)  | O(1)  | O(1)  | O(1)  | O(1)  | O(1)  | O(2) | O(2)                | O(2)                | O(2)                 | O(2) | O(2) | O(2) | O(2) | O(2) | O(2) | O(2)  | O(2)  | O(2)  | O(2)  | O(2)  | O(2)  | O(2)  | O(2)                | O(2)  | O(3) | O(3)                | O(3)                | O(3)                 | O(3) | O(3) | O(3)                | O(3) | O(3) | O(3) | O(3)  | O(3)                | O(3)  | O(3)  | O(3)  | O(3)  | O(3)  | O(3)                | O(3)  | O(4)                | O(4)                | O(4)                | O(4)                 | O(4) | O(4)                  | O(4)                 | O(4) | O(4) | O(4) | O(4)  | O(4)  | O(4)  | O(4)  | O(4)  | O(4)  | O(4)  | O(4)  | O(4)  | O(5)                | O(5)                | O(5)                | O(5)                | O(5)                | O(5)                 | O(5)                 | O(5) | O(5)                | O(5)                | O(5)               | O(5)  | O(5)                | O(5)  | O(5)  | O(5)  | O(5)  | O(5)  | O(5)  | O(6) | O(6) | O(6) | O(6) | O(6) | O(6) | O(6) | O(6) | O(6) | O(6) | O(6)  | O(6)  | O(6)  | O(6)  | O(6)  | O(6)  | O(6)  | O(6)  | O(6)  |\n",
      "+------------+------+---------------------+---------------------+------+------+------+------+------+------+------+-------+-------+-------+-------+-------+-------+-------+-------+-------+------+---------------------+---------------------+----------------------+------+------+------+------+------+------+-------+-------+-------+-------+-------+-------+-------+---------------------+-------+------+---------------------+---------------------+----------------------+------+------+---------------------+------+------+------+-------+---------------------+-------+-------+-------+-------+-------+---------------------+-------+---------------------+---------------------+---------------------+----------------------+------+-----------------------+----------------------+------+------+------+-------+-------+-------+-------+-------+-------+-------+-------+-------+---------------------+---------------------+---------------------+---------------------+---------------------+----------------------+----------------------+------+---------------------+---------------------+--------------------+-------+---------------------+-------+-------+-------+-------+-------+-------+------+------+------+------+------+------+------+------+------+------+-------+-------+-------+-------+-------+-------+-------+-------+-------+\n",
      "| R          | R(0) | R(1)                | R(2)                | R(3) | R(4) | R(5) | R(6) | R(7) | R(8) | R(9) | R(10) | R(11) | R(12) | R(13) | R(14) | R(15) | R(16) | R(17) | R(18) | R(0) | R(1)                | R(2)                | R(3)                 | R(4) | R(5) | R(6) | R(7) | R(8) | R(9) | R(10) | R(11) | R(12) | R(13) | R(14) | R(15) | R(16) | R(17)               | R(18) | R(0) | R(1)                | R(2)                | R(3)                 | R(4) | R(5) | R(6)                | R(7) | R(8) | R(9) | R(10) | R(11)               | R(12) | R(13) | R(14) | R(15) | R(16) | R(17)               | R(18) | R(0)                | R(1)                | R(2)                | R(3)                 | R(4) | R(5)                  | R(6)                 | R(7) | R(8) | R(9) | R(10) | R(11) | R(12) | R(13) | R(14) | R(15) | R(16) | R(17) | R(18) | R(0)                | R(1)                | R(2)                | R(3)                | R(4)                | R(5)                 | R(6)                 | R(7) | R(8)                | R(9)                | R(10)              | R(11) | R(12)               | R(13) | R(14) | R(15) | R(16) | R(17) | R(18) | R(0) | R(1) | R(2) | R(3) | R(4) | R(5) | R(6) | R(7) | R(8) | R(9) | R(10) | R(11) | R(12) | R(13) | R(14) | R(15) | R(16) | R(17) | R(18) |\n",
      "+------------+------+---------------------+---------------------+------+------+------+------+------+------+------+-------+-------+-------+-------+-------+-------+-------+-------+-------+------+---------------------+---------------------+----------------------+------+------+------+------+------+------+-------+-------+-------+-------+-------+-------+-------+---------------------+-------+------+---------------------+---------------------+----------------------+------+------+---------------------+------+------+------+-------+---------------------+-------+-------+-------+-------+-------+---------------------+-------+---------------------+---------------------+---------------------+----------------------+------+-----------------------+----------------------+------+------+------+-------+-------+-------+-------+-------+-------+-------+-------+-------+---------------------+---------------------+---------------------+---------------------+---------------------+----------------------+----------------------+------+---------------------+---------------------+--------------------+-------+---------------------+-------+-------+-------+-------+-------+-------+------+------+------+------+------+------+------+------+------+------+-------+-------+-------+-------+-------+-------+-------+-------+-------+\n",
      "| Porucha(0) | 0.5  | 0.8787878787878788  | 0.9310344827586207  | 1.0  | 1.0  | 1.0  | 1.0  | 1.0  | 1.0  | 1.0  | 1.0   | 1.0   | 1.0   | 0.5   | 1.0   | 0.5   | 0.5   | 0.5   | 0.5   | 1.0  | 0.8450704225352113  | 0.9487179487179487  | 0.9971387696709585   | 1.0  | 1.0  | 1.0  | 1.0  | 1.0  | 1.0  | 1.0   | 1.0   | 1.0   | 1.0   | 1.0   | 0.5   | 0.0   | 0.16666666666666666 | 0.0   | 0.8  | 0.8518518518518519  | 0.950592885375494   | 0.9971590909090909   | 1.0  | 1.0  | 0.994535519125683   | 1.0  | 1.0  | 1.0  | 1.0   | 0.9090909090909091  | 1.0   | 1.0   | 1.0   | 1.0   | 0.0   | 0.16666666666666666 | 0.5   | 0.8571428571428571  | 0.8796992481203008  | 0.9541666666666667  | 0.9941262848751835   | 1.0  | 0.9970059880239521    | 0.988950276243094    | 1.0  | 1.0  | 1.0  | 1.0   | 1.0   | 0.9   | 1.0   | 1.0   | 0.5   | 0.0   | 0.0   | 0.0   | 0.16666666666666666 | 0.5522388059701493  | 0.7907692307692308  | 0.9630541871921182  | 0.9627118644067797  | 0.9695431472081218   | 0.968421052631579    | 1.0  | 0.8846153846153846  | 0.9473684210526315  | 0.8888888888888888 | 1.0   | 0.8571428571428571  | 0.75  | 0.5   | 1.0   | 1.0   | 0.5   | 0.5   | 0.5  | 0.5  | 0.5  | 0.5  | 0.5  | 1.0  | 1.0  | 0.5  | 1.0  | 0.5  | 0.5   | 0.5   | 0.5   | 0.5   | 0.5   | 0.5   | 0.5   | 0.5   | 0.5   |\n",
      "+------------+------+---------------------+---------------------+------+------+------+------+------+------+------+-------+-------+-------+-------+-------+-------+-------+-------+-------+------+---------------------+---------------------+----------------------+------+------+------+------+------+------+-------+-------+-------+-------+-------+-------+-------+---------------------+-------+------+---------------------+---------------------+----------------------+------+------+---------------------+------+------+------+-------+---------------------+-------+-------+-------+-------+-------+---------------------+-------+---------------------+---------------------+---------------------+----------------------+------+-----------------------+----------------------+------+------+------+-------+-------+-------+-------+-------+-------+-------+-------+-------+---------------------+---------------------+---------------------+---------------------+---------------------+----------------------+----------------------+------+---------------------+---------------------+--------------------+-------+---------------------+-------+-------+-------+-------+-------+-------+------+------+------+------+------+------+------+------+------+------+-------+-------+-------+-------+-------+-------+-------+-------+-------+\n",
      "| Porucha(1) | 0.5  | 0.12121212121212122 | 0.06896551724137931 | 0.0  | 0.0  | 0.0  | 0.0  | 0.0  | 0.0  | 0.0  | 0.0   | 0.0   | 0.0   | 0.5   | 0.0   | 0.5   | 0.5   | 0.5   | 0.5   | 0.0  | 0.15492957746478872 | 0.05128205128205128 | 0.002861230329041488 | 0.0  | 0.0  | 0.0  | 0.0  | 0.0  | 0.0  | 0.0   | 0.0   | 0.0   | 0.0   | 0.0   | 0.5   | 1.0   | 0.8333333333333334  | 1.0   | 0.2  | 0.14814814814814814 | 0.04940711462450593 | 0.002840909090909091 | 0.0  | 0.0  | 0.00546448087431694 | 0.0  | 0.0  | 0.0  | 0.0   | 0.09090909090909091 | 0.0   | 0.0   | 0.0   | 0.0   | 1.0   | 0.8333333333333334  | 0.5   | 0.14285714285714285 | 0.12030075187969924 | 0.04583333333333333 | 0.005873715124816446 | 0.0  | 0.0029940119760479044 | 0.011049723756906077 | 0.0  | 0.0  | 0.0  | 0.0   | 0.0   | 0.1   | 0.0   | 0.0   | 0.5   | 1.0   | 1.0   | 1.0   | 0.8333333333333334  | 0.44776119402985076 | 0.20923076923076922 | 0.03694581280788178 | 0.03728813559322034 | 0.030456852791878174 | 0.031578947368421054 | 0.0  | 0.11538461538461539 | 0.05263157894736842 | 0.1111111111111111 | 0.0   | 0.14285714285714285 | 0.25  | 0.5   | 0.0   | 0.0   | 0.5   | 0.5   | 0.5  | 0.5  | 0.5  | 0.5  | 0.5  | 0.0  | 0.0  | 0.5  | 0.0  | 0.5  | 0.5   | 0.5   | 0.5   | 0.5   | 0.5   | 0.5   | 0.5   | 0.5   | 0.5   |\n",
      "+------------+------+---------------------+---------------------+------+------+------+------+------+------+------+-------+-------+-------+-------+-------+-------+-------+-------+-------+------+---------------------+---------------------+----------------------+------+------+------+------+------+------+-------+-------+-------+-------+-------+-------+-------+---------------------+-------+------+---------------------+---------------------+----------------------+------+------+---------------------+------+------+------+-------+---------------------+-------+-------+-------+-------+-------+---------------------+-------+---------------------+---------------------+---------------------+----------------------+------+-----------------------+----------------------+------+------+------+-------+-------+-------+-------+-------+-------+-------+-------+-------+---------------------+---------------------+---------------------+---------------------+---------------------+----------------------+----------------------+------+---------------------+---------------------+--------------------+-------+---------------------+-------+-------+-------+-------+-------+-------+------+------+------+------+------+------+------+------+------+------+-------+-------+-------+-------+-------+-------+-------+-------+-------+\n"
     ]
    },
    {
     "data": {
      "application/vnd.jupyter.widget-view+json": {
       "model_id": "9cf049deaac944c6b240653208d7d729",
       "version_major": 2,
       "version_minor": 0
      },
      "text/plain": [
       "  0%|          | 0/5 [00:00<?, ?it/s]"
      ]
     },
     "metadata": {},
     "output_type": "display_data"
    },
    {
     "name": "stdout",
     "output_type": "stream",
     "text": [
      "0\n",
      "1\n",
      "<class 'pgmpy.factors.discrete.CPD.TabularCPD'>\n",
      "1\n",
      "2\n",
      "<class 'pgmpy.factors.discrete.CPD.TabularCPD'>\n",
      "<class 'pgmpy.factors.discrete.CPD.TabularCPD'>\n",
      "<class 'pgmpy.factors.discrete.CPD.TabularCPD'>\n",
      "+------------+------+---------------------+---------------------+------+------+------+------+------+------+------+-------+-------+-------+-------+-------+-------+-------+-------+-------+------+---------------------+---------------------+----------------------+------+------+------+------+------+------+-------+-------+-------+-------+-------+-------+-------+---------------------+-------+------+---------------------+---------------------+----------------------+----------------------+------+------+------+------+------+-------+---------------------+-------+-------+-------+-------+-------+---------------------+-------+---------------------+---------------------+---------------------+----------------------+------+----------------------+---------------------+------+------+------+-------+-------+-------+-------+-------+-------+-------+-------+-------+------+---------------------+---------------------+---------------------+---------------------+---------------------+----------------------+------+---------------------+---------------------+--------------------+-------+---------------------+-------+-------+-------+-------+-------+-------+------+------+------+------+------+------+------+------+------+------+-------+-------+-------+-------+-------+-------+-------+-------+-------+\n",
      "| O          | O(1) | O(1)                | O(1)                | O(1) | O(1) | O(1) | O(1) | O(1) | O(1) | O(1) | O(1)  | O(1)  | O(1)  | O(1)  | O(1)  | O(1)  | O(1)  | O(1)  | O(1)  | O(2) | O(2)                | O(2)                | O(2)                 | O(2) | O(2) | O(2) | O(2) | O(2) | O(2) | O(2)  | O(2)  | O(2)  | O(2)  | O(2)  | O(2)  | O(2)  | O(2)                | O(2)  | O(3) | O(3)                | O(3)                | O(3)                 | O(3)                 | O(3) | O(3) | O(3) | O(3) | O(3) | O(3)  | O(3)                | O(3)  | O(3)  | O(3)  | O(3)  | O(3)  | O(3)                | O(3)  | O(4)                | O(4)                | O(4)                | O(4)                 | O(4) | O(4)                 | O(4)                | O(4) | O(4) | O(4) | O(4)  | O(4)  | O(4)  | O(4)  | O(4)  | O(4)  | O(4)  | O(4)  | O(4)  | O(5) | O(5)                | O(5)                | O(5)                | O(5)                | O(5)                | O(5)                 | O(5) | O(5)                | O(5)                | O(5)               | O(5)  | O(5)                | O(5)  | O(5)  | O(5)  | O(5)  | O(5)  | O(5)  | O(6) | O(6) | O(6) | O(6) | O(6) | O(6) | O(6) | O(6) | O(6) | O(6) | O(6)  | O(6)  | O(6)  | O(6)  | O(6)  | O(6)  | O(6)  | O(6)  | O(6)  |\n",
      "+------------+------+---------------------+---------------------+------+------+------+------+------+------+------+-------+-------+-------+-------+-------+-------+-------+-------+-------+------+---------------------+---------------------+----------------------+------+------+------+------+------+------+-------+-------+-------+-------+-------+-------+-------+---------------------+-------+------+---------------------+---------------------+----------------------+----------------------+------+------+------+------+------+-------+---------------------+-------+-------+-------+-------+-------+---------------------+-------+---------------------+---------------------+---------------------+----------------------+------+----------------------+---------------------+------+------+------+-------+-------+-------+-------+-------+-------+-------+-------+-------+------+---------------------+---------------------+---------------------+---------------------+---------------------+----------------------+------+---------------------+---------------------+--------------------+-------+---------------------+-------+-------+-------+-------+-------+-------+------+------+------+------+------+------+------+------+------+------+-------+-------+-------+-------+-------+-------+-------+-------+-------+\n",
      "| R          | R(0) | R(1)                | R(2)                | R(3) | R(4) | R(5) | R(6) | R(7) | R(8) | R(9) | R(10) | R(11) | R(12) | R(13) | R(14) | R(15) | R(16) | R(17) | R(18) | R(0) | R(1)                | R(2)                | R(3)                 | R(4) | R(5) | R(6) | R(7) | R(8) | R(9) | R(10) | R(11) | R(12) | R(13) | R(14) | R(15) | R(16) | R(17)               | R(18) | R(0) | R(1)                | R(2)                | R(3)                 | R(4)                 | R(5) | R(6) | R(7) | R(8) | R(9) | R(10) | R(11)               | R(12) | R(13) | R(14) | R(15) | R(16) | R(17)               | R(18) | R(0)                | R(1)                | R(2)                | R(3)                 | R(4) | R(5)                 | R(6)                | R(7) | R(8) | R(9) | R(10) | R(11) | R(12) | R(13) | R(14) | R(15) | R(16) | R(17) | R(18) | R(0) | R(1)                | R(2)                | R(3)                | R(4)                | R(5)                | R(6)                 | R(7) | R(8)                | R(9)                | R(10)              | R(11) | R(12)               | R(13) | R(14) | R(15) | R(16) | R(17) | R(18) | R(0) | R(1) | R(2) | R(3) | R(4) | R(5) | R(6) | R(7) | R(8) | R(9) | R(10) | R(11) | R(12) | R(13) | R(14) | R(15) | R(16) | R(17) | R(18) |\n",
      "+------------+------+---------------------+---------------------+------+------+------+------+------+------+------+-------+-------+-------+-------+-------+-------+-------+-------+-------+------+---------------------+---------------------+----------------------+------+------+------+------+------+------+-------+-------+-------+-------+-------+-------+-------+---------------------+-------+------+---------------------+---------------------+----------------------+----------------------+------+------+------+------+------+-------+---------------------+-------+-------+-------+-------+-------+---------------------+-------+---------------------+---------------------+---------------------+----------------------+------+----------------------+---------------------+------+------+------+-------+-------+-------+-------+-------+-------+-------+-------+-------+------+---------------------+---------------------+---------------------+---------------------+---------------------+----------------------+------+---------------------+---------------------+--------------------+-------+---------------------+-------+-------+-------+-------+-------+-------+------+------+------+------+------+------+------+------+------+------+-------+-------+-------+-------+-------+-------+-------+-------+-------+\n",
      "| Porucha(0) | 0.5  | 0.8787878787878788  | 0.9310344827586207  | 1.0  | 1.0  | 1.0  | 1.0  | 1.0  | 1.0  | 1.0  | 1.0   | 1.0   | 1.0   | 0.5   | 1.0   | 0.5   | 0.5   | 0.5   | 0.5   | 1.0  | 0.8450704225352113  | 0.9486081370449678  | 0.9971387696709585   | 1.0  | 1.0  | 1.0  | 1.0  | 1.0  | 1.0  | 1.0   | 1.0   | 1.0   | 1.0   | 1.0   | 0.5   | 0.0   | 0.16666666666666666 | 0.0   | 0.8  | 0.8518518518518519  | 0.9504950495049505  | 0.9971751412429378   | 0.998158379373849    | 1.0  | 1.0  | 1.0  | 1.0  | 1.0  | 1.0   | 0.9090909090909091  | 1.0   | 1.0   | 1.0   | 1.0   | 0.0   | 0.16666666666666666 | 0.5   | 0.8571428571428571  | 0.8796992481203008  | 0.954070981210856   | 0.9941434846266471   | 1.0  | 0.996996996996997    | 0.989010989010989   | 1.0  | 1.0  | 1.0  | 1.0   | 1.0   | 0.9   | 1.0   | 1.0   | 0.5   | 0.0   | 0.0   | 0.0   | 0.0  | 0.5454545454545454  | 0.7907692307692308  | 0.9630541871921182  | 0.9625850340136054  | 0.9698492462311558  | 0.9680851063829787   | 1.0  | 0.8846153846153846  | 0.9473684210526315  | 0.8888888888888888 | 1.0   | 0.8571428571428571  | 0.75  | 0.5   | 1.0   | 1.0   | 0.5   | 0.5   | 0.5  | 0.5  | 0.5  | 0.5  | 0.5  | 1.0  | 1.0  | 0.5  | 1.0  | 0.5  | 0.5   | 0.5   | 0.5   | 0.5   | 0.5   | 0.5   | 0.5   | 0.5   | 0.5   |\n",
      "+------------+------+---------------------+---------------------+------+------+------+------+------+------+------+-------+-------+-------+-------+-------+-------+-------+-------+-------+------+---------------------+---------------------+----------------------+------+------+------+------+------+------+-------+-------+-------+-------+-------+-------+-------+---------------------+-------+------+---------------------+---------------------+----------------------+----------------------+------+------+------+------+------+-------+---------------------+-------+-------+-------+-------+-------+---------------------+-------+---------------------+---------------------+---------------------+----------------------+------+----------------------+---------------------+------+------+------+-------+-------+-------+-------+-------+-------+-------+-------+-------+------+---------------------+---------------------+---------------------+---------------------+---------------------+----------------------+------+---------------------+---------------------+--------------------+-------+---------------------+-------+-------+-------+-------+-------+-------+------+------+------+------+------+------+------+------+------+------+-------+-------+-------+-------+-------+-------+-------+-------+-------+\n",
      "| Porucha(1) | 0.5  | 0.12121212121212122 | 0.06896551724137931 | 0.0  | 0.0  | 0.0  | 0.0  | 0.0  | 0.0  | 0.0  | 0.0   | 0.0   | 0.0   | 0.5   | 0.0   | 0.5   | 0.5   | 0.5   | 0.5   | 0.0  | 0.15492957746478872 | 0.05139186295503212 | 0.002861230329041488 | 0.0  | 0.0  | 0.0  | 0.0  | 0.0  | 0.0  | 0.0   | 0.0   | 0.0   | 0.0   | 0.0   | 0.5   | 1.0   | 0.8333333333333334  | 1.0   | 0.2  | 0.14814814814814814 | 0.04950495049504951 | 0.002824858757062147 | 0.001841620626151013 | 0.0  | 0.0  | 0.0  | 0.0  | 0.0  | 0.0   | 0.09090909090909091 | 0.0   | 0.0   | 0.0   | 0.0   | 1.0   | 0.8333333333333334  | 0.5   | 0.14285714285714285 | 0.12030075187969924 | 0.04592901878914405 | 0.005856515373352855 | 0.0  | 0.003003003003003003 | 0.01098901098901099 | 0.0  | 0.0  | 0.0  | 0.0   | 0.0   | 0.1   | 0.0   | 0.0   | 0.5   | 1.0   | 1.0   | 1.0   | 1.0  | 0.45454545454545453 | 0.20923076923076922 | 0.03694581280788178 | 0.03741496598639456 | 0.03015075376884422 | 0.031914893617021274 | 0.0  | 0.11538461538461539 | 0.05263157894736842 | 0.1111111111111111 | 0.0   | 0.14285714285714285 | 0.25  | 0.5   | 0.0   | 0.0   | 0.5   | 0.5   | 0.5  | 0.5  | 0.5  | 0.5  | 0.5  | 0.0  | 0.0  | 0.5  | 0.0  | 0.5  | 0.5   | 0.5   | 0.5   | 0.5   | 0.5   | 0.5   | 0.5   | 0.5   | 0.5   |\n",
      "+------------+------+---------------------+---------------------+------+------+------+------+------+------+------+-------+-------+-------+-------+-------+-------+-------+-------+-------+------+---------------------+---------------------+----------------------+------+------+------+------+------+------+-------+-------+-------+-------+-------+-------+-------+---------------------+-------+------+---------------------+---------------------+----------------------+----------------------+------+------+------+------+------+-------+---------------------+-------+-------+-------+-------+-------+---------------------+-------+---------------------+---------------------+---------------------+----------------------+------+----------------------+---------------------+------+------+------+-------+-------+-------+-------+-------+-------+-------+-------+-------+------+---------------------+---------------------+---------------------+---------------------+---------------------+----------------------+------+---------------------+---------------------+--------------------+-------+---------------------+-------+-------+-------+-------+-------+-------+------+------+------+------+------+------+------+------+------+------+-------+-------+-------+-------+-------+-------+-------+-------+-------+\n"
     ]
    }
   ],
   "source": [
    "\n",
    "for i in [data_skewed_hc, data_normal_hc]:\n",
    "    model = BayesianNetwork([('R', 'Porucha'), ('O', 'Porucha')])\n",
    "\n",
    "    estimator = EM(BayesianNetwork(model), i[['T', 'R', 'K', 'O', 'Porucha']])\n",
    "\n",
    "    est_disc = estimator.get_parameters(max_iter = 5, seed = 0)\n",
    "    print_full(est_disc['cpds'][1])"
   ]
  }
 ],
 "metadata": {
  "environment": {
   "kernel": "python3",
   "name": "tf2-gpu.2-8.m97",
   "type": "gcloud",
   "uri": "gcr.io/deeplearning-platform-release/tf2-gpu.2-8:m97"
  },
  "kernelspec": {
   "display_name": "Python 3",
   "language": "python",
   "name": "python3"
  },
  "language_info": {
   "codemirror_mode": {
    "name": "ipython",
    "version": 3
   },
   "file_extension": ".py",
   "mimetype": "text/x-python",
   "name": "python",
   "nbconvert_exporter": "python",
   "pygments_lexer": "ipython3",
   "version": "3.9.6 (default, Oct 18 2022, 12:41:40) \n[Clang 14.0.0 (clang-1400.0.29.202)]"
  },
  "vscode": {
   "interpreter": {
    "hash": "31f2aee4e71d21fbe5cf8b01ff0e069b9275f58929596ceb00d14d90e3e16cd6"
   }
  }
 },
 "nbformat": 4,
 "nbformat_minor": 5
}
